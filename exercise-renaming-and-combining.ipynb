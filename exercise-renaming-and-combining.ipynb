{
 "cells": [
  {
   "cell_type": "markdown",
   "id": "46fb8adc",
   "metadata": {
    "papermill": {
     "duration": 0.004696,
     "end_time": "2023-06-28T18:10:30.956518",
     "exception": false,
     "start_time": "2023-06-28T18:10:30.951822",
     "status": "completed"
    },
    "tags": []
   },
   "source": [
    "**This notebook is an exercise in the [Pandas](https://www.kaggle.com/learn/pandas) course.  You can reference the tutorial at [this link](https://www.kaggle.com/residentmario/renaming-and-combining).**\n",
    "\n",
    "---\n"
   ]
  },
  {
   "cell_type": "markdown",
   "id": "a6056c1c",
   "metadata": {
    "papermill": {
     "duration": 0.003758,
     "end_time": "2023-06-28T18:10:30.965012",
     "exception": false,
     "start_time": "2023-06-28T18:10:30.961254",
     "status": "completed"
    },
    "tags": []
   },
   "source": [
    "# Introduction\n",
    "\n",
    "Run the following cell to load your data and some utility functions."
   ]
  },
  {
   "cell_type": "code",
   "execution_count": 1,
   "id": "9e1c73a2",
   "metadata": {
    "execution": {
     "iopub.execute_input": "2023-06-28T18:10:30.974574Z",
     "iopub.status.busy": "2023-06-28T18:10:30.974252Z",
     "iopub.status.idle": "2023-06-28T18:10:34.326668Z",
     "shell.execute_reply": "2023-06-28T18:10:34.325176Z"
    },
    "papermill": {
     "duration": 3.359955,
     "end_time": "2023-06-28T18:10:34.328971",
     "exception": false,
     "start_time": "2023-06-28T18:10:30.969016",
     "status": "completed"
    },
    "tags": []
   },
   "outputs": [
    {
     "name": "stdout",
     "output_type": "stream",
     "text": [
      "Setup complete.\n"
     ]
    }
   ],
   "source": [
    "import pandas as pd\n",
    "\n",
    "reviews = pd.read_csv(\"../input/wine-reviews/winemag-data-130k-v2.csv\", index_col=0)\n",
    "\n",
    "from learntools.core import binder; binder.bind(globals())\n",
    "from learntools.pandas.renaming_and_combining import *\n",
    "print(\"Setup complete.\")"
   ]
  },
  {
   "cell_type": "markdown",
   "id": "32267a3b",
   "metadata": {
    "papermill": {
     "duration": 0.004461,
     "end_time": "2023-06-28T18:10:34.338182",
     "exception": false,
     "start_time": "2023-06-28T18:10:34.333721",
     "status": "completed"
    },
    "tags": []
   },
   "source": [
    "# Exercises\n",
    "\n",
    "View the first several lines of your data by running the cell below:"
   ]
  },
  {
   "cell_type": "code",
   "execution_count": 2,
   "id": "5e874d35",
   "metadata": {
    "execution": {
     "iopub.execute_input": "2023-06-28T18:10:34.349087Z",
     "iopub.status.busy": "2023-06-28T18:10:34.348732Z",
     "iopub.status.idle": "2023-06-28T18:10:34.381506Z",
     "shell.execute_reply": "2023-06-28T18:10:34.380104Z"
    },
    "papermill": {
     "duration": 0.04123,
     "end_time": "2023-06-28T18:10:34.384015",
     "exception": false,
     "start_time": "2023-06-28T18:10:34.342785",
     "status": "completed"
    },
    "tags": []
   },
   "outputs": [
    {
     "data": {
      "text/html": [
       "<div>\n",
       "<style scoped>\n",
       "    .dataframe tbody tr th:only-of-type {\n",
       "        vertical-align: middle;\n",
       "    }\n",
       "\n",
       "    .dataframe tbody tr th {\n",
       "        vertical-align: top;\n",
       "    }\n",
       "\n",
       "    .dataframe thead th {\n",
       "        text-align: right;\n",
       "    }\n",
       "</style>\n",
       "<table border=\"1\" class=\"dataframe\">\n",
       "  <thead>\n",
       "    <tr style=\"text-align: right;\">\n",
       "      <th></th>\n",
       "      <th>country</th>\n",
       "      <th>description</th>\n",
       "      <th>designation</th>\n",
       "      <th>points</th>\n",
       "      <th>price</th>\n",
       "      <th>province</th>\n",
       "      <th>region_1</th>\n",
       "      <th>region_2</th>\n",
       "      <th>taster_name</th>\n",
       "      <th>taster_twitter_handle</th>\n",
       "      <th>title</th>\n",
       "      <th>variety</th>\n",
       "      <th>winery</th>\n",
       "    </tr>\n",
       "  </thead>\n",
       "  <tbody>\n",
       "    <tr>\n",
       "      <th>0</th>\n",
       "      <td>Italy</td>\n",
       "      <td>Aromas include tropical fruit, broom, brimston...</td>\n",
       "      <td>Vulkà Bianco</td>\n",
       "      <td>87</td>\n",
       "      <td>NaN</td>\n",
       "      <td>Sicily &amp; Sardinia</td>\n",
       "      <td>Etna</td>\n",
       "      <td>NaN</td>\n",
       "      <td>Kerin O’Keefe</td>\n",
       "      <td>@kerinokeefe</td>\n",
       "      <td>Nicosia 2013 Vulkà Bianco  (Etna)</td>\n",
       "      <td>White Blend</td>\n",
       "      <td>Nicosia</td>\n",
       "    </tr>\n",
       "    <tr>\n",
       "      <th>1</th>\n",
       "      <td>Portugal</td>\n",
       "      <td>This is ripe and fruity, a wine that is smooth...</td>\n",
       "      <td>Avidagos</td>\n",
       "      <td>87</td>\n",
       "      <td>15.0</td>\n",
       "      <td>Douro</td>\n",
       "      <td>NaN</td>\n",
       "      <td>NaN</td>\n",
       "      <td>Roger Voss</td>\n",
       "      <td>@vossroger</td>\n",
       "      <td>Quinta dos Avidagos 2011 Avidagos Red (Douro)</td>\n",
       "      <td>Portuguese Red</td>\n",
       "      <td>Quinta dos Avidagos</td>\n",
       "    </tr>\n",
       "    <tr>\n",
       "      <th>2</th>\n",
       "      <td>US</td>\n",
       "      <td>Tart and snappy, the flavors of lime flesh and...</td>\n",
       "      <td>NaN</td>\n",
       "      <td>87</td>\n",
       "      <td>14.0</td>\n",
       "      <td>Oregon</td>\n",
       "      <td>Willamette Valley</td>\n",
       "      <td>Willamette Valley</td>\n",
       "      <td>Paul Gregutt</td>\n",
       "      <td>@paulgwine</td>\n",
       "      <td>Rainstorm 2013 Pinot Gris (Willamette Valley)</td>\n",
       "      <td>Pinot Gris</td>\n",
       "      <td>Rainstorm</td>\n",
       "    </tr>\n",
       "    <tr>\n",
       "      <th>3</th>\n",
       "      <td>US</td>\n",
       "      <td>Pineapple rind, lemon pith and orange blossom ...</td>\n",
       "      <td>Reserve Late Harvest</td>\n",
       "      <td>87</td>\n",
       "      <td>13.0</td>\n",
       "      <td>Michigan</td>\n",
       "      <td>Lake Michigan Shore</td>\n",
       "      <td>NaN</td>\n",
       "      <td>Alexander Peartree</td>\n",
       "      <td>NaN</td>\n",
       "      <td>St. Julian 2013 Reserve Late Harvest Riesling ...</td>\n",
       "      <td>Riesling</td>\n",
       "      <td>St. Julian</td>\n",
       "    </tr>\n",
       "    <tr>\n",
       "      <th>4</th>\n",
       "      <td>US</td>\n",
       "      <td>Much like the regular bottling from 2012, this...</td>\n",
       "      <td>Vintner's Reserve Wild Child Block</td>\n",
       "      <td>87</td>\n",
       "      <td>65.0</td>\n",
       "      <td>Oregon</td>\n",
       "      <td>Willamette Valley</td>\n",
       "      <td>Willamette Valley</td>\n",
       "      <td>Paul Gregutt</td>\n",
       "      <td>@paulgwine</td>\n",
       "      <td>Sweet Cheeks 2012 Vintner's Reserve Wild Child...</td>\n",
       "      <td>Pinot Noir</td>\n",
       "      <td>Sweet Cheeks</td>\n",
       "    </tr>\n",
       "  </tbody>\n",
       "</table>\n",
       "</div>"
      ],
      "text/plain": [
       "    country                                        description  \\\n",
       "0     Italy  Aromas include tropical fruit, broom, brimston...   \n",
       "1  Portugal  This is ripe and fruity, a wine that is smooth...   \n",
       "2        US  Tart and snappy, the flavors of lime flesh and...   \n",
       "3        US  Pineapple rind, lemon pith and orange blossom ...   \n",
       "4        US  Much like the regular bottling from 2012, this...   \n",
       "\n",
       "                          designation  points  price           province  \\\n",
       "0                        Vulkà Bianco      87    NaN  Sicily & Sardinia   \n",
       "1                            Avidagos      87   15.0              Douro   \n",
       "2                                 NaN      87   14.0             Oregon   \n",
       "3                Reserve Late Harvest      87   13.0           Michigan   \n",
       "4  Vintner's Reserve Wild Child Block      87   65.0             Oregon   \n",
       "\n",
       "              region_1           region_2         taster_name  \\\n",
       "0                 Etna                NaN       Kerin O’Keefe   \n",
       "1                  NaN                NaN          Roger Voss   \n",
       "2    Willamette Valley  Willamette Valley        Paul Gregutt   \n",
       "3  Lake Michigan Shore                NaN  Alexander Peartree   \n",
       "4    Willamette Valley  Willamette Valley        Paul Gregutt   \n",
       "\n",
       "  taster_twitter_handle                                              title  \\\n",
       "0          @kerinokeefe                  Nicosia 2013 Vulkà Bianco  (Etna)   \n",
       "1            @vossroger      Quinta dos Avidagos 2011 Avidagos Red (Douro)   \n",
       "2           @paulgwine       Rainstorm 2013 Pinot Gris (Willamette Valley)   \n",
       "3                   NaN  St. Julian 2013 Reserve Late Harvest Riesling ...   \n",
       "4           @paulgwine   Sweet Cheeks 2012 Vintner's Reserve Wild Child...   \n",
       "\n",
       "          variety               winery  \n",
       "0     White Blend              Nicosia  \n",
       "1  Portuguese Red  Quinta dos Avidagos  \n",
       "2      Pinot Gris            Rainstorm  \n",
       "3        Riesling           St. Julian  \n",
       "4      Pinot Noir         Sweet Cheeks  "
      ]
     },
     "execution_count": 2,
     "metadata": {},
     "output_type": "execute_result"
    }
   ],
   "source": [
    "reviews.head()"
   ]
  },
  {
   "cell_type": "markdown",
   "id": "4fde8225",
   "metadata": {
    "papermill": {
     "duration": 0.004491,
     "end_time": "2023-06-28T18:10:34.395289",
     "exception": false,
     "start_time": "2023-06-28T18:10:34.390798",
     "status": "completed"
    },
    "tags": []
   },
   "source": [
    "## 1.\n",
    "`region_1` and `region_2` are pretty uninformative names for locale columns in the dataset. Create a copy of `reviews` with these columns renamed to `region` and `locale`, respectively."
   ]
  },
  {
   "cell_type": "code",
   "execution_count": 3,
   "id": "1e6f3a11",
   "metadata": {
    "execution": {
     "iopub.execute_input": "2023-06-28T18:10:34.407025Z",
     "iopub.status.busy": "2023-06-28T18:10:34.406701Z",
     "iopub.status.idle": "2023-06-28T18:10:34.426883Z",
     "shell.execute_reply": "2023-06-28T18:10:34.425509Z"
    },
    "papermill": {
     "duration": 0.028872,
     "end_time": "2023-06-28T18:10:34.428828",
     "exception": false,
     "start_time": "2023-06-28T18:10:34.399956",
     "status": "completed"
    },
    "tags": []
   },
   "outputs": [
    {
     "data": {
      "application/javascript": [
       "parent.postMessage({\"jupyterEvent\": \"custom.exercise_interaction\", \"data\": {\"outcomeType\": 1, \"valueTowardsCompletion\": 0.25, \"interactionType\": 1, \"questionType\": 1, \"questionId\": \"1_RenameCols\", \"learnToolsVersion\": \"0.3.4\", \"failureMessage\": \"\", \"exceptionClass\": \"\", \"trace\": \"\"}}, \"*\")"
      ],
      "text/plain": [
       "<IPython.core.display.Javascript object>"
      ]
     },
     "metadata": {},
     "output_type": "display_data"
    },
    {
     "data": {
      "text/markdown": [
       "<span style=\"color:#33cc33\">Correct</span>"
      ],
      "text/plain": [
       "Correct"
      ]
     },
     "metadata": {},
     "output_type": "display_data"
    }
   ],
   "source": [
    "# Your code here\n",
    "renamed = reviews.rename(columns={'region_1': 'region','region_2' : 'locale'})\n",
    "\n",
    "# Check your answer\n",
    "q1.check()"
   ]
  },
  {
   "cell_type": "code",
   "execution_count": 4,
   "id": "390c5cf0",
   "metadata": {
    "execution": {
     "iopub.execute_input": "2023-06-28T18:10:34.439935Z",
     "iopub.status.busy": "2023-06-28T18:10:34.439574Z",
     "iopub.status.idle": "2023-06-28T18:10:34.444576Z",
     "shell.execute_reply": "2023-06-28T18:10:34.443571Z"
    },
    "papermill": {
     "duration": 0.013212,
     "end_time": "2023-06-28T18:10:34.446958",
     "exception": false,
     "start_time": "2023-06-28T18:10:34.433746",
     "status": "completed"
    },
    "tags": []
   },
   "outputs": [],
   "source": [
    "#q1.hint()\n",
    "#q1.solution()"
   ]
  },
  {
   "cell_type": "markdown",
   "id": "853a700e",
   "metadata": {
    "papermill": {
     "duration": 0.004702,
     "end_time": "2023-06-28T18:10:34.457062",
     "exception": false,
     "start_time": "2023-06-28T18:10:34.452360",
     "status": "completed"
    },
    "tags": []
   },
   "source": [
    "## 2.\n",
    "Set the index name in the dataset to `wines`."
   ]
  },
  {
   "cell_type": "code",
   "execution_count": 5,
   "id": "25d98b22",
   "metadata": {
    "execution": {
     "iopub.execute_input": "2023-06-28T18:10:34.469068Z",
     "iopub.status.busy": "2023-06-28T18:10:34.468188Z",
     "iopub.status.idle": "2023-06-28T18:10:34.487047Z",
     "shell.execute_reply": "2023-06-28T18:10:34.486013Z"
    },
    "papermill": {
     "duration": 0.027198,
     "end_time": "2023-06-28T18:10:34.489172",
     "exception": false,
     "start_time": "2023-06-28T18:10:34.461974",
     "status": "completed"
    },
    "tags": []
   },
   "outputs": [
    {
     "data": {
      "application/javascript": [
       "parent.postMessage({\"jupyterEvent\": \"custom.exercise_interaction\", \"data\": {\"outcomeType\": 1, \"valueTowardsCompletion\": 0.25, \"interactionType\": 1, \"questionType\": 1, \"questionId\": \"2_RenameIndex\", \"learnToolsVersion\": \"0.3.4\", \"failureMessage\": \"\", \"exceptionClass\": \"\", \"trace\": \"\"}}, \"*\")"
      ],
      "text/plain": [
       "<IPython.core.display.Javascript object>"
      ]
     },
     "metadata": {},
     "output_type": "display_data"
    },
    {
     "data": {
      "text/markdown": [
       "<span style=\"color:#33cc33\">Correct</span>"
      ],
      "text/plain": [
       "Correct"
      ]
     },
     "metadata": {},
     "output_type": "display_data"
    }
   ],
   "source": [
    "reindexed=reviews.rename_axis(\"wines\", axis='rows')\n",
    "\n",
    "# Check your answer\n",
    "q2.check()"
   ]
  },
  {
   "cell_type": "code",
   "execution_count": 6,
   "id": "3cce8de5",
   "metadata": {
    "execution": {
     "iopub.execute_input": "2023-06-28T18:10:34.502531Z",
     "iopub.status.busy": "2023-06-28T18:10:34.502152Z",
     "iopub.status.idle": "2023-06-28T18:10:34.506989Z",
     "shell.execute_reply": "2023-06-28T18:10:34.505723Z"
    },
    "papermill": {
     "duration": 0.015061,
     "end_time": "2023-06-28T18:10:34.509532",
     "exception": false,
     "start_time": "2023-06-28T18:10:34.494471",
     "status": "completed"
    },
    "tags": []
   },
   "outputs": [],
   "source": [
    "#q2.hint()\n",
    "#q2.solution()"
   ]
  },
  {
   "cell_type": "markdown",
   "id": "b8dd4287",
   "metadata": {
    "papermill": {
     "duration": 0.004819,
     "end_time": "2023-06-28T18:10:34.519956",
     "exception": false,
     "start_time": "2023-06-28T18:10:34.515137",
     "status": "completed"
    },
    "tags": []
   },
   "source": [
    "## 3.\n",
    "The [Things on Reddit](https://www.kaggle.com/residentmario/things-on-reddit/data) dataset includes product links from a selection of top-ranked forums (\"subreddits\") on reddit.com. Run the cell below to load a dataframe of products mentioned on the */r/gaming* subreddit and another dataframe for products mentioned on the *r//movies* subreddit."
   ]
  },
  {
   "cell_type": "code",
   "execution_count": 7,
   "id": "d22ce244",
   "metadata": {
    "execution": {
     "iopub.execute_input": "2023-06-28T18:10:34.533691Z",
     "iopub.status.busy": "2023-06-28T18:10:34.533239Z",
     "iopub.status.idle": "2023-06-28T18:10:34.547378Z",
     "shell.execute_reply": "2023-06-28T18:10:34.546462Z"
    },
    "papermill": {
     "duration": 0.023988,
     "end_time": "2023-06-28T18:10:34.549972",
     "exception": false,
     "start_time": "2023-06-28T18:10:34.525984",
     "status": "completed"
    },
    "tags": []
   },
   "outputs": [],
   "source": [
    "gaming_products = pd.read_csv(\"../input/things-on-reddit/top-things/top-things/reddits/g/gaming.csv\")\n",
    "gaming_products['subreddit'] = \"r/gaming\"\n",
    "movie_products = pd.read_csv(\"../input/things-on-reddit/top-things/top-things/reddits/m/movies.csv\")\n",
    "movie_products['subreddit'] = \"r/movies\""
   ]
  },
  {
   "cell_type": "markdown",
   "id": "8e8df3b6",
   "metadata": {
    "papermill": {
     "duration": 0.005099,
     "end_time": "2023-06-28T18:10:34.560780",
     "exception": false,
     "start_time": "2023-06-28T18:10:34.555681",
     "status": "completed"
    },
    "tags": []
   },
   "source": [
    "Create a `DataFrame` of products mentioned on *either* subreddit."
   ]
  },
  {
   "cell_type": "code",
   "execution_count": 8,
   "id": "774fdb43",
   "metadata": {
    "execution": {
     "iopub.execute_input": "2023-06-28T18:10:34.572821Z",
     "iopub.status.busy": "2023-06-28T18:10:34.572477Z",
     "iopub.status.idle": "2023-06-28T18:10:34.586818Z",
     "shell.execute_reply": "2023-06-28T18:10:34.585659Z"
    },
    "papermill": {
     "duration": 0.022979,
     "end_time": "2023-06-28T18:10:34.588936",
     "exception": false,
     "start_time": "2023-06-28T18:10:34.565957",
     "status": "completed"
    },
    "tags": []
   },
   "outputs": [
    {
     "data": {
      "application/javascript": [
       "parent.postMessage({\"jupyterEvent\": \"custom.exercise_interaction\", \"data\": {\"outcomeType\": 1, \"valueTowardsCompletion\": 0.25, \"interactionType\": 1, \"questionType\": 2, \"questionId\": \"3_ConcatReddit\", \"learnToolsVersion\": \"0.3.4\", \"failureMessage\": \"\", \"exceptionClass\": \"\", \"trace\": \"\"}}, \"*\")"
      ],
      "text/plain": [
       "<IPython.core.display.Javascript object>"
      ]
     },
     "metadata": {},
     "output_type": "display_data"
    },
    {
     "data": {
      "text/markdown": [
       "<span style=\"color:#33cc33\">Correct</span>"
      ],
      "text/plain": [
       "Correct"
      ]
     },
     "metadata": {},
     "output_type": "display_data"
    }
   ],
   "source": [
    "combined_products = pd.concat([gaming_products,movie_products])\n",
    "\n",
    "# Check your answer\n",
    "q3.check()"
   ]
  },
  {
   "cell_type": "code",
   "execution_count": 9,
   "id": "e8c0d567",
   "metadata": {
    "execution": {
     "iopub.execute_input": "2023-06-28T18:10:34.602079Z",
     "iopub.status.busy": "2023-06-28T18:10:34.601708Z",
     "iopub.status.idle": "2023-06-28T18:10:34.605936Z",
     "shell.execute_reply": "2023-06-28T18:10:34.605040Z"
    },
    "papermill": {
     "duration": 0.013798,
     "end_time": "2023-06-28T18:10:34.608440",
     "exception": false,
     "start_time": "2023-06-28T18:10:34.594642",
     "status": "completed"
    },
    "tags": []
   },
   "outputs": [],
   "source": [
    "#q3.hint()\n",
    "#q3.solution()"
   ]
  },
  {
   "cell_type": "markdown",
   "id": "1f3f5165",
   "metadata": {
    "papermill": {
     "duration": 0.005307,
     "end_time": "2023-06-28T18:10:34.619788",
     "exception": false,
     "start_time": "2023-06-28T18:10:34.614481",
     "status": "completed"
    },
    "tags": []
   },
   "source": [
    "## 4.\n",
    "The [Powerlifting Database](https://www.kaggle.com/open-powerlifting/powerlifting-database) dataset on Kaggle includes one CSV table for powerlifting meets and a separate one for powerlifting competitors. Run the cell below to load these datasets into dataframes:"
   ]
  },
  {
   "cell_type": "code",
   "execution_count": 10,
   "id": "cdc3f28b",
   "metadata": {
    "execution": {
     "iopub.execute_input": "2023-06-28T18:10:34.632988Z",
     "iopub.status.busy": "2023-06-28T18:10:34.632652Z",
     "iopub.status.idle": "2023-06-28T18:10:35.151869Z",
     "shell.execute_reply": "2023-06-28T18:10:35.150278Z"
    },
    "papermill": {
     "duration": 0.529497,
     "end_time": "2023-06-28T18:10:35.154928",
     "exception": false,
     "start_time": "2023-06-28T18:10:34.625431",
     "status": "completed"
    },
    "tags": []
   },
   "outputs": [],
   "source": [
    "powerlifting_meets = pd.read_csv(\"../input/powerlifting-database/meets.csv\")\n",
    "powerlifting_competitors = pd.read_csv(\"../input/powerlifting-database/openpowerlifting.csv\")"
   ]
  },
  {
   "cell_type": "markdown",
   "id": "9d22c061",
   "metadata": {
    "papermill": {
     "duration": 0.005424,
     "end_time": "2023-06-28T18:10:35.166138",
     "exception": false,
     "start_time": "2023-06-28T18:10:35.160714",
     "status": "completed"
    },
    "tags": []
   },
   "source": [
    "Both tables include references to a `MeetID`, a unique key for each meet (competition) included in the database. Using this, generate a dataset combining the two tables into one."
   ]
  },
  {
   "cell_type": "code",
   "execution_count": 11,
   "id": "7ed56c0d",
   "metadata": {
    "execution": {
     "iopub.execute_input": "2023-06-28T18:10:35.178422Z",
     "iopub.status.busy": "2023-06-28T18:10:35.178082Z",
     "iopub.status.idle": "2023-06-28T18:10:36.039982Z",
     "shell.execute_reply": "2023-06-28T18:10:36.038493Z"
    },
    "papermill": {
     "duration": 0.8709,
     "end_time": "2023-06-28T18:10:36.042488",
     "exception": false,
     "start_time": "2023-06-28T18:10:35.171588",
     "status": "completed"
    },
    "tags": []
   },
   "outputs": [
    {
     "data": {
      "application/javascript": [
       "parent.postMessage({\"jupyterEvent\": \"custom.exercise_interaction\", \"data\": {\"outcomeType\": 1, \"valueTowardsCompletion\": 0.25, \"interactionType\": 1, \"questionType\": 2, \"questionId\": \"4_JoinLifting\", \"learnToolsVersion\": \"0.3.4\", \"failureMessage\": \"\", \"exceptionClass\": \"\", \"trace\": \"\"}}, \"*\")"
      ],
      "text/plain": [
       "<IPython.core.display.Javascript object>"
      ]
     },
     "metadata": {},
     "output_type": "display_data"
    },
    {
     "data": {
      "text/markdown": [
       "<span style=\"color:#33cc33\">Correct</span>"
      ],
      "text/plain": [
       "Correct"
      ]
     },
     "metadata": {},
     "output_type": "display_data"
    }
   ],
   "source": [
    "powerlifting_combined = powerlifting_meets.set_index(\"MeetID\").join(powerlifting_competitors.set_index(\"MeetID\"))\n",
    "# Check your answer\n",
    "q4.check()"
   ]
  },
  {
   "cell_type": "code",
   "execution_count": 12,
   "id": "b7dd95e1",
   "metadata": {
    "execution": {
     "iopub.execute_input": "2023-06-28T18:10:36.056776Z",
     "iopub.status.busy": "2023-06-28T18:10:36.056436Z",
     "iopub.status.idle": "2023-06-28T18:10:36.060831Z",
     "shell.execute_reply": "2023-06-28T18:10:36.059582Z"
    },
    "papermill": {
     "duration": 0.014222,
     "end_time": "2023-06-28T18:10:36.063035",
     "exception": false,
     "start_time": "2023-06-28T18:10:36.048813",
     "status": "completed"
    },
    "tags": []
   },
   "outputs": [],
   "source": [
    "#q4.hint()\n",
    "#q4.solution()"
   ]
  },
  {
   "cell_type": "markdown",
   "id": "4ca4ad63",
   "metadata": {
    "papermill": {
     "duration": 0.005564,
     "end_time": "2023-06-28T18:10:36.074768",
     "exception": false,
     "start_time": "2023-06-28T18:10:36.069204",
     "status": "completed"
    },
    "tags": []
   },
   "source": [
    "# Congratulations!\n",
    "\n",
    "You've finished the Pandas micro-course.  Many data scientists feel efficiency with Pandas is the most useful and practical skill they have, because it allows you to progress quickly in any project you have.\n",
    "\n",
    "If you'd like to apply your new skills to examining geospatial data, you're encouraged to check out our **[Geospatial Analysis](https://www.kaggle.com/learn/geospatial-analysis)** micro-course.\n",
    "\n",
    "You can also take advantage of your Pandas skills by entering a **[Kaggle Competition](https://www.kaggle.com/competitions)** or by answering a question you find interesting using **[Kaggle Datasets](https://www.kaggle.com/datasets)**."
   ]
  },
  {
   "cell_type": "markdown",
   "id": "b8377295",
   "metadata": {
    "papermill": {
     "duration": 0.005561,
     "end_time": "2023-06-28T18:10:36.086432",
     "exception": false,
     "start_time": "2023-06-28T18:10:36.080871",
     "status": "completed"
    },
    "tags": []
   },
   "source": [
    "---\n",
    "\n",
    "\n",
    "\n",
    "\n",
    "*Have questions or comments? Visit the [course discussion forum](https://www.kaggle.com/learn/pandas/discussion) to chat with other learners.*"
   ]
  }
 ],
 "metadata": {
  "kernelspec": {
   "display_name": "Python 3",
   "language": "python",
   "name": "python3"
  },
  "language_info": {
   "codemirror_mode": {
    "name": "ipython",
    "version": 3
   },
   "file_extension": ".py",
   "mimetype": "text/x-python",
   "name": "python",
   "nbconvert_exporter": "python",
   "pygments_lexer": "ipython3",
   "version": "3.10.10"
  },
  "papermill": {
   "default_parameters": {},
   "duration": 15.21511,
   "end_time": "2023-06-28T18:10:37.014493",
   "environment_variables": {},
   "exception": null,
   "input_path": "__notebook__.ipynb",
   "output_path": "__notebook__.ipynb",
   "parameters": {},
   "start_time": "2023-06-28T18:10:21.799383",
   "version": "2.4.0"
  }
 },
 "nbformat": 4,
 "nbformat_minor": 5
}
