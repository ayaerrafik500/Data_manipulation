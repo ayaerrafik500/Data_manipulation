{
 "cells": [
  {
   "cell_type": "markdown",
   "id": "ee20d94a",
   "metadata": {
    "papermill": {
     "duration": 0.005363,
     "end_time": "2023-06-27T21:33:53.746842",
     "exception": false,
     "start_time": "2023-06-27T21:33:53.741479",
     "status": "completed"
    },
    "tags": []
   },
   "source": [
    "**This notebook is an exercise in the [Pandas](https://www.kaggle.com/learn/pandas) course.  You can reference the tutorial at [this link](https://www.kaggle.com/residentmario/grouping-and-sorting).**\n",
    "\n",
    "---\n"
   ]
  },
  {
   "cell_type": "markdown",
   "id": "a601bf71",
   "metadata": {
    "papermill": {
     "duration": 0.004637,
     "end_time": "2023-06-27T21:33:53.756406",
     "exception": false,
     "start_time": "2023-06-27T21:33:53.751769",
     "status": "completed"
    },
    "tags": []
   },
   "source": [
    "# Introduction\n",
    "\n",
    "In these exercises we'll apply groupwise analysis to our dataset.\n",
    "\n",
    "Run the code cell below to load the data before running the exercises."
   ]
  },
  {
   "cell_type": "code",
   "execution_count": 1,
   "id": "0797002a",
   "metadata": {
    "execution": {
     "iopub.execute_input": "2023-06-27T21:33:53.767524Z",
     "iopub.status.busy": "2023-06-27T21:33:53.767111Z",
     "iopub.status.idle": "2023-06-27T21:33:56.286917Z",
     "shell.execute_reply": "2023-06-27T21:33:56.284709Z"
    },
    "papermill": {
     "duration": 2.527683,
     "end_time": "2023-06-27T21:33:56.288770",
     "exception": false,
     "start_time": "2023-06-27T21:33:53.761087",
     "status": "completed"
    },
    "tags": []
   },
   "outputs": [
    {
     "name": "stdout",
     "output_type": "stream",
     "text": [
      "Setup complete.\n"
     ]
    }
   ],
   "source": [
    "import pandas as pd\n",
    "\n",
    "reviews = pd.read_csv(\"../input/wine-reviews/winemag-data-130k-v2.csv\", index_col=0)\n",
    "#pd.set_option(\"display.max_rows\", 5)\n",
    "\n",
    "from learntools.core import binder; binder.bind(globals())\n",
    "from learntools.pandas.grouping_and_sorting import *\n",
    "print(\"Setup complete.\")"
   ]
  },
  {
   "cell_type": "markdown",
   "id": "6237084a",
   "metadata": {
    "papermill": {
     "duration": 0.004416,
     "end_time": "2023-06-27T21:33:56.298127",
     "exception": false,
     "start_time": "2023-06-27T21:33:56.293711",
     "status": "completed"
    },
    "tags": []
   },
   "source": [
    "# Exercises"
   ]
  },
  {
   "cell_type": "markdown",
   "id": "58b13fcd",
   "metadata": {
    "papermill": {
     "duration": 0.00553,
     "end_time": "2023-06-27T21:33:56.308428",
     "exception": false,
     "start_time": "2023-06-27T21:33:56.302898",
     "status": "completed"
    },
    "tags": []
   },
   "source": [
    "## 1.\n",
    "Who are the most common wine reviewers in the dataset? Create a `Series` whose index is the `taster_twitter_handle` category from the dataset, and whose values count how many reviews each person wrote."
   ]
  },
  {
   "cell_type": "code",
   "execution_count": 2,
   "id": "0f1e507a",
   "metadata": {
    "execution": {
     "iopub.execute_input": "2023-06-27T21:33:56.319186Z",
     "iopub.status.busy": "2023-06-27T21:33:56.318869Z",
     "iopub.status.idle": "2023-06-27T21:33:56.342312Z",
     "shell.execute_reply": "2023-06-27T21:33:56.341017Z"
    },
    "papermill": {
     "duration": 0.031101,
     "end_time": "2023-06-27T21:33:56.344209",
     "exception": false,
     "start_time": "2023-06-27T21:33:56.313108",
     "status": "completed"
    },
    "tags": []
   },
   "outputs": [
    {
     "data": {
      "application/javascript": [
       "parent.postMessage({\"jupyterEvent\": \"custom.exercise_interaction\", \"data\": {\"outcomeType\": 1, \"valueTowardsCompletion\": 0.16666666666666666, \"interactionType\": 1, \"questionType\": 1, \"questionId\": \"1_ReviewsWritten\", \"learnToolsVersion\": \"0.3.4\", \"failureMessage\": \"\", \"exceptionClass\": \"\", \"trace\": \"\"}}, \"*\")"
      ],
      "text/plain": [
       "<IPython.core.display.Javascript object>"
      ]
     },
     "metadata": {},
     "output_type": "display_data"
    },
    {
     "data": {
      "text/markdown": [
       "<span style=\"color:#33cc33\">Correct:</span> \n",
       "\n",
       "\n",
       "```python\n",
       "reviews_written = reviews.groupby('taster_twitter_handle').size()\n",
       "```\n",
       "or\n",
       "```python\n",
       "reviews_written = reviews.groupby('taster_twitter_handle').taster_twitter_handle.count()\n",
       "```\n"
      ],
      "text/plain": [
       "Correct: \n",
       "\n",
       "\n",
       "```python\n",
       "reviews_written = reviews.groupby('taster_twitter_handle').size()\n",
       "```\n",
       "or\n",
       "```python\n",
       "reviews_written = reviews.groupby('taster_twitter_handle').taster_twitter_handle.count()\n",
       "```"
      ]
     },
     "metadata": {},
     "output_type": "display_data"
    }
   ],
   "source": [
    "# Your code here\n",
    "reviews_written = reviews.groupby('taster_twitter_handle').taster_twitter_handle.count()\n",
    "# Check your answer\n",
    "q1.check()"
   ]
  },
  {
   "cell_type": "code",
   "execution_count": 3,
   "id": "7a85a768",
   "metadata": {
    "execution": {
     "iopub.execute_input": "2023-06-27T21:33:56.356099Z",
     "iopub.status.busy": "2023-06-27T21:33:56.355769Z",
     "iopub.status.idle": "2023-06-27T21:33:56.359584Z",
     "shell.execute_reply": "2023-06-27T21:33:56.358658Z"
    },
    "papermill": {
     "duration": 0.012043,
     "end_time": "2023-06-27T21:33:56.361402",
     "exception": false,
     "start_time": "2023-06-27T21:33:56.349359",
     "status": "completed"
    },
    "tags": []
   },
   "outputs": [],
   "source": [
    "#q1.hint()\n",
    "#q1.solution()"
   ]
  },
  {
   "cell_type": "markdown",
   "id": "d7d825e8",
   "metadata": {
    "papermill": {
     "duration": 0.004717,
     "end_time": "2023-06-27T21:33:56.371111",
     "exception": false,
     "start_time": "2023-06-27T21:33:56.366394",
     "status": "completed"
    },
    "tags": []
   },
   "source": [
    "## 2.\n",
    "What is the best wine I can buy for a given amount of money? Create a `Series` whose index is wine prices and whose values is the maximum number of points a wine costing that much was given in a review. Sort the values by price, ascending (so that `4.0` dollars is at the top and `3300.0` dollars is at the bottom)."
   ]
  },
  {
   "cell_type": "code",
   "execution_count": 4,
   "id": "df8c7092",
   "metadata": {
    "execution": {
     "iopub.execute_input": "2023-06-27T21:33:56.382573Z",
     "iopub.status.busy": "2023-06-27T21:33:56.382288Z",
     "iopub.status.idle": "2023-06-27T21:33:56.396609Z",
     "shell.execute_reply": "2023-06-27T21:33:56.395619Z"
    },
    "papermill": {
     "duration": 0.02227,
     "end_time": "2023-06-27T21:33:56.398366",
     "exception": false,
     "start_time": "2023-06-27T21:33:56.376096",
     "status": "completed"
    },
    "tags": []
   },
   "outputs": [
    {
     "name": "stdout",
     "output_type": "stream",
     "text": [
      "price\n",
      "4.0       86\n",
      "5.0       87\n",
      "6.0       88\n",
      "7.0       91\n",
      "8.0       91\n",
      "          ..\n",
      "1900.0    98\n",
      "2000.0    97\n",
      "2013.0    91\n",
      "2500.0    96\n",
      "3300.0    88\n",
      "Name: points, Length: 390, dtype: int64\n"
     ]
    },
    {
     "data": {
      "application/javascript": [
       "parent.postMessage({\"jupyterEvent\": \"custom.exercise_interaction\", \"data\": {\"outcomeType\": 1, \"valueTowardsCompletion\": 0.16666666666666666, \"interactionType\": 1, \"questionType\": 1, \"questionId\": \"2_BestRatingPerPrice\", \"learnToolsVersion\": \"0.3.4\", \"failureMessage\": \"\", \"exceptionClass\": \"\", \"trace\": \"\"}}, \"*\")"
      ],
      "text/plain": [
       "<IPython.core.display.Javascript object>"
      ]
     },
     "metadata": {},
     "output_type": "display_data"
    },
    {
     "data": {
      "text/markdown": [
       "<span style=\"color:#33cc33\">Correct</span>"
      ],
      "text/plain": [
       "Correct"
      ]
     },
     "metadata": {},
     "output_type": "display_data"
    }
   ],
   "source": [
    "best_rating_per_price = reviews.groupby('price')['points'].max().sort_index()\n",
    "print(best_rating_per_price)\n",
    "# Check your answer\n",
    "q2.check()"
   ]
  },
  {
   "cell_type": "code",
   "execution_count": 5,
   "id": "d32c7114",
   "metadata": {
    "execution": {
     "iopub.execute_input": "2023-06-27T21:33:56.410788Z",
     "iopub.status.busy": "2023-06-27T21:33:56.410520Z",
     "iopub.status.idle": "2023-06-27T21:33:56.415326Z",
     "shell.execute_reply": "2023-06-27T21:33:56.414222Z"
    },
    "papermill": {
     "duration": 0.013012,
     "end_time": "2023-06-27T21:33:56.417042",
     "exception": false,
     "start_time": "2023-06-27T21:33:56.404030",
     "status": "completed"
    },
    "tags": []
   },
   "outputs": [],
   "source": [
    "#q2.hint()\n",
    "#q2.solution()"
   ]
  },
  {
   "cell_type": "markdown",
   "id": "b72be6f4",
   "metadata": {
    "papermill": {
     "duration": 0.004983,
     "end_time": "2023-06-27T21:33:56.427216",
     "exception": false,
     "start_time": "2023-06-27T21:33:56.422233",
     "status": "completed"
    },
    "tags": []
   },
   "source": [
    "## 3.\n",
    "What are the minimum and maximum prices for each `variety` of wine? Create a `DataFrame` whose index is the `variety` category from the dataset and whose values are the `min` and `max` values thereof."
   ]
  },
  {
   "cell_type": "code",
   "execution_count": 6,
   "id": "8107732b",
   "metadata": {
    "execution": {
     "iopub.execute_input": "2023-06-27T21:33:56.439519Z",
     "iopub.status.busy": "2023-06-27T21:33:56.439162Z",
     "iopub.status.idle": "2023-06-27T21:33:56.459978Z",
     "shell.execute_reply": "2023-06-27T21:33:56.459095Z"
    },
    "papermill": {
     "duration": 0.029232,
     "end_time": "2023-06-27T21:33:56.461775",
     "exception": false,
     "start_time": "2023-06-27T21:33:56.432543",
     "status": "completed"
    },
    "tags": []
   },
   "outputs": [
    {
     "data": {
      "application/javascript": [
       "parent.postMessage({\"jupyterEvent\": \"custom.exercise_interaction\", \"data\": {\"outcomeType\": 1, \"valueTowardsCompletion\": 0.16666666666666666, \"interactionType\": 1, \"questionType\": 1, \"questionId\": \"3_PriceExtremes\", \"learnToolsVersion\": \"0.3.4\", \"failureMessage\": \"\", \"exceptionClass\": \"\", \"trace\": \"\"}}, \"*\")"
      ],
      "text/plain": [
       "<IPython.core.display.Javascript object>"
      ]
     },
     "metadata": {},
     "output_type": "display_data"
    },
    {
     "data": {
      "text/markdown": [
       "<span style=\"color:#33cc33\">Correct</span>"
      ],
      "text/plain": [
       "Correct"
      ]
     },
     "metadata": {},
     "output_type": "display_data"
    }
   ],
   "source": [
    "price_extremes = reviews.groupby('variety').price.agg([min, max])\n",
    "\n",
    "# Check your answer\n",
    "q3.check()"
   ]
  },
  {
   "cell_type": "code",
   "execution_count": 7,
   "id": "9ddeb27d",
   "metadata": {
    "execution": {
     "iopub.execute_input": "2023-06-27T21:33:56.476172Z",
     "iopub.status.busy": "2023-06-27T21:33:56.475834Z",
     "iopub.status.idle": "2023-06-27T21:33:56.478787Z",
     "shell.execute_reply": "2023-06-27T21:33:56.478226Z"
    },
    "papermill": {
     "duration": 0.011853,
     "end_time": "2023-06-27T21:33:56.480341",
     "exception": false,
     "start_time": "2023-06-27T21:33:56.468488",
     "status": "completed"
    },
    "tags": []
   },
   "outputs": [],
   "source": [
    "#q3.hint()\n",
    "#q3.solution()"
   ]
  },
  {
   "cell_type": "markdown",
   "id": "f6fe37f0",
   "metadata": {
    "papermill": {
     "duration": 0.005374,
     "end_time": "2023-06-27T21:33:56.491782",
     "exception": false,
     "start_time": "2023-06-27T21:33:56.486408",
     "status": "completed"
    },
    "tags": []
   },
   "source": [
    "## 4.\n",
    "What are the most expensive wine varieties? Create a variable `sorted_varieties` containing a copy of the dataframe from the previous question where varieties are sorted in descending order based on minimum price, then on maximum price (to break ties)."
   ]
  },
  {
   "cell_type": "code",
   "execution_count": 8,
   "id": "b2fe4af3",
   "metadata": {
    "execution": {
     "iopub.execute_input": "2023-06-27T21:33:56.506079Z",
     "iopub.status.busy": "2023-06-27T21:33:56.505704Z",
     "iopub.status.idle": "2023-06-27T21:33:56.514707Z",
     "shell.execute_reply": "2023-06-27T21:33:56.513794Z"
    },
    "papermill": {
     "duration": 0.018328,
     "end_time": "2023-06-27T21:33:56.516701",
     "exception": false,
     "start_time": "2023-06-27T21:33:56.498373",
     "status": "completed"
    },
    "tags": []
   },
   "outputs": [
    {
     "data": {
      "application/javascript": [
       "parent.postMessage({\"jupyterEvent\": \"custom.exercise_interaction\", \"data\": {\"outcomeType\": 1, \"valueTowardsCompletion\": 0.16666666666666666, \"interactionType\": 1, \"questionType\": 1, \"questionId\": \"4_SortedVarieties\", \"learnToolsVersion\": \"0.3.4\", \"failureMessage\": \"\", \"exceptionClass\": \"\", \"trace\": \"\"}}, \"*\")"
      ],
      "text/plain": [
       "<IPython.core.display.Javascript object>"
      ]
     },
     "metadata": {},
     "output_type": "display_data"
    },
    {
     "data": {
      "text/markdown": [
       "<span style=\"color:#33cc33\">Correct</span>"
      ],
      "text/plain": [
       "Correct"
      ]
     },
     "metadata": {},
     "output_type": "display_data"
    }
   ],
   "source": [
    "\n",
    "sorted_varieties = price_extremes.sort_values(by=['min', 'max'], ascending=False)\n",
    "# Check your answer\n",
    "q4.check()"
   ]
  },
  {
   "cell_type": "code",
   "execution_count": 9,
   "id": "bef25c57",
   "metadata": {
    "execution": {
     "iopub.execute_input": "2023-06-27T21:33:56.530412Z",
     "iopub.status.busy": "2023-06-27T21:33:56.529564Z",
     "iopub.status.idle": "2023-06-27T21:33:56.534078Z",
     "shell.execute_reply": "2023-06-27T21:33:56.533302Z"
    },
    "papermill": {
     "duration": 0.013021,
     "end_time": "2023-06-27T21:33:56.535843",
     "exception": false,
     "start_time": "2023-06-27T21:33:56.522822",
     "status": "completed"
    },
    "tags": []
   },
   "outputs": [],
   "source": [
    "#q4.hint()\n",
    "#q4.solution()"
   ]
  },
  {
   "cell_type": "markdown",
   "id": "21d9bc21",
   "metadata": {
    "papermill": {
     "duration": 0.005501,
     "end_time": "2023-06-27T21:33:56.547383",
     "exception": false,
     "start_time": "2023-06-27T21:33:56.541882",
     "status": "completed"
    },
    "tags": []
   },
   "source": [
    "## 5.\n",
    "Create a `Series` whose index is reviewers and whose values is the average review score given out by that reviewer. Hint: you will need the `taster_name` and `points` columns."
   ]
  },
  {
   "cell_type": "code",
   "execution_count": 10,
   "id": "5b413548",
   "metadata": {
    "execution": {
     "iopub.execute_input": "2023-06-27T21:33:56.560449Z",
     "iopub.status.busy": "2023-06-27T21:33:56.560148Z",
     "iopub.status.idle": "2023-06-27T21:33:56.578011Z",
     "shell.execute_reply": "2023-06-27T21:33:56.577150Z"
    },
    "papermill": {
     "duration": 0.02659,
     "end_time": "2023-06-27T21:33:56.579789",
     "exception": false,
     "start_time": "2023-06-27T21:33:56.553199",
     "status": "completed"
    },
    "tags": []
   },
   "outputs": [
    {
     "data": {
      "application/javascript": [
       "parent.postMessage({\"jupyterEvent\": \"custom.exercise_interaction\", \"data\": {\"outcomeType\": 1, \"valueTowardsCompletion\": 0.16666666666666666, \"interactionType\": 1, \"questionType\": 1, \"questionId\": \"5_ReviewerMeanRatings\", \"learnToolsVersion\": \"0.3.4\", \"failureMessage\": \"\", \"exceptionClass\": \"\", \"trace\": \"\"}}, \"*\")"
      ],
      "text/plain": [
       "<IPython.core.display.Javascript object>"
      ]
     },
     "metadata": {},
     "output_type": "display_data"
    },
    {
     "data": {
      "text/markdown": [
       "<span style=\"color:#33cc33\">Correct</span>"
      ],
      "text/plain": [
       "Correct"
      ]
     },
     "metadata": {},
     "output_type": "display_data"
    }
   ],
   "source": [
    "reviewer_mean_ratings = reviews.groupby('taster_name').points.mean()\n",
    "\n",
    "\n",
    "# Check your answer\n",
    "q5.check()"
   ]
  },
  {
   "cell_type": "code",
   "execution_count": 11,
   "id": "b22e4e19",
   "metadata": {
    "execution": {
     "iopub.execute_input": "2023-06-27T21:33:56.593612Z",
     "iopub.status.busy": "2023-06-27T21:33:56.593261Z",
     "iopub.status.idle": "2023-06-27T21:33:56.597169Z",
     "shell.execute_reply": "2023-06-27T21:33:56.596148Z"
    },
    "papermill": {
     "duration": 0.012957,
     "end_time": "2023-06-27T21:33:56.598916",
     "exception": false,
     "start_time": "2023-06-27T21:33:56.585959",
     "status": "completed"
    },
    "tags": []
   },
   "outputs": [],
   "source": [
    "#q5.hint()\n",
    "#q5.solution()"
   ]
  },
  {
   "cell_type": "markdown",
   "id": "feefdf59",
   "metadata": {
    "papermill": {
     "duration": 0.005687,
     "end_time": "2023-06-27T21:33:56.611019",
     "exception": false,
     "start_time": "2023-06-27T21:33:56.605332",
     "status": "completed"
    },
    "tags": []
   },
   "source": [
    "Are there significant differences in the average scores assigned by the various reviewers? Run the cell below to use the `describe()` method to see a summary of the range of values."
   ]
  },
  {
   "cell_type": "code",
   "execution_count": 12,
   "id": "64f5328c",
   "metadata": {
    "execution": {
     "iopub.execute_input": "2023-06-27T21:33:56.624599Z",
     "iopub.status.busy": "2023-06-27T21:33:56.623653Z",
     "iopub.status.idle": "2023-06-27T21:33:56.636217Z",
     "shell.execute_reply": "2023-06-27T21:33:56.635349Z"
    },
    "papermill": {
     "duration": 0.021601,
     "end_time": "2023-06-27T21:33:56.638396",
     "exception": false,
     "start_time": "2023-06-27T21:33:56.616795",
     "status": "completed"
    },
    "tags": []
   },
   "outputs": [
    {
     "data": {
      "text/plain": [
       "count    19.000000\n",
       "mean     88.233026\n",
       "std       1.243610\n",
       "min      85.855422\n",
       "25%      87.323501\n",
       "50%      88.536235\n",
       "75%      88.975256\n",
       "max      90.562551\n",
       "Name: points, dtype: float64"
      ]
     },
     "execution_count": 12,
     "metadata": {},
     "output_type": "execute_result"
    }
   ],
   "source": [
    "reviewer_mean_ratings.describe()"
   ]
  },
  {
   "cell_type": "markdown",
   "id": "cb8615cb",
   "metadata": {
    "papermill": {
     "duration": 0.005646,
     "end_time": "2023-06-27T21:33:56.650654",
     "exception": false,
     "start_time": "2023-06-27T21:33:56.645008",
     "status": "completed"
    },
    "tags": []
   },
   "source": [
    "## 6.\n",
    "What combination of countries and varieties are most common? Create a `Series` whose index is a `MultiIndex`of `{country, variety}` pairs. For example, a pinot noir produced in the US should map to `{\"US\", \"Pinot Noir\"}`. Sort the values in the `Series` in descending order based on wine count."
   ]
  },
  {
   "cell_type": "code",
   "execution_count": 13,
   "id": "5bafc78f",
   "metadata": {
    "execution": {
     "iopub.execute_input": "2023-06-27T21:33:56.663844Z",
     "iopub.status.busy": "2023-06-27T21:33:56.663536Z",
     "iopub.status.idle": "2023-06-27T21:33:56.693618Z",
     "shell.execute_reply": "2023-06-27T21:33:56.692318Z"
    },
    "papermill": {
     "duration": 0.039338,
     "end_time": "2023-06-27T21:33:56.695790",
     "exception": false,
     "start_time": "2023-06-27T21:33:56.656452",
     "status": "completed"
    },
    "tags": []
   },
   "outputs": [
    {
     "data": {
      "application/javascript": [
       "parent.postMessage({\"jupyterEvent\": \"custom.exercise_interaction\", \"data\": {\"outcomeType\": 1, \"valueTowardsCompletion\": 0.16666666666666666, \"interactionType\": 1, \"questionType\": 1, \"questionId\": \"6_GroupbyCountryVariety\", \"learnToolsVersion\": \"0.3.4\", \"failureMessage\": \"\", \"exceptionClass\": \"\", \"trace\": \"\"}}, \"*\")"
      ],
      "text/plain": [
       "<IPython.core.display.Javascript object>"
      ]
     },
     "metadata": {},
     "output_type": "display_data"
    },
    {
     "data": {
      "text/markdown": [
       "<span style=\"color:#33cc33\">Correct</span>"
      ],
      "text/plain": [
       "Correct"
      ]
     },
     "metadata": {},
     "output_type": "display_data"
    }
   ],
   "source": [
    "country_variety_counts = reviews.groupby(['country','variety']).size().sort_values(ascending=False)\n",
    "\n",
    "# Check your answer\n",
    "q6.check()"
   ]
  },
  {
   "cell_type": "code",
   "execution_count": 14,
   "id": "2084719e",
   "metadata": {
    "execution": {
     "iopub.execute_input": "2023-06-27T21:33:56.710277Z",
     "iopub.status.busy": "2023-06-27T21:33:56.709962Z",
     "iopub.status.idle": "2023-06-27T21:33:56.712849Z",
     "shell.execute_reply": "2023-06-27T21:33:56.712318Z"
    },
    "papermill": {
     "duration": 0.012252,
     "end_time": "2023-06-27T21:33:56.714731",
     "exception": false,
     "start_time": "2023-06-27T21:33:56.702479",
     "status": "completed"
    },
    "tags": []
   },
   "outputs": [],
   "source": [
    "#q6.hint()\n",
    "#q6.solution()"
   ]
  },
  {
   "cell_type": "markdown",
   "id": "ab6e7c8c",
   "metadata": {
    "papermill": {
     "duration": 0.005951,
     "end_time": "2023-06-27T21:33:56.727131",
     "exception": false,
     "start_time": "2023-06-27T21:33:56.721180",
     "status": "completed"
    },
    "tags": []
   },
   "source": [
    "# Keep going\n",
    "\n",
    "Move on to the [**data types and missing data**](https://www.kaggle.com/residentmario/data-types-and-missing-values)."
   ]
  },
  {
   "cell_type": "markdown",
   "id": "536e188b",
   "metadata": {
    "papermill": {
     "duration": 0.005847,
     "end_time": "2023-06-27T21:33:56.739222",
     "exception": false,
     "start_time": "2023-06-27T21:33:56.733375",
     "status": "completed"
    },
    "tags": []
   },
   "source": [
    "---\n",
    "\n",
    "\n",
    "\n",
    "\n",
    "*Have questions or comments? Visit the [course discussion forum](https://www.kaggle.com/learn/pandas/discussion) to chat with other learners.*"
   ]
  }
 ],
 "metadata": {
  "kernelspec": {
   "display_name": "Python 3",
   "language": "python",
   "name": "python3"
  },
  "language_info": {
   "codemirror_mode": {
    "name": "ipython",
    "version": 3
   },
   "file_extension": ".py",
   "mimetype": "text/x-python",
   "name": "python",
   "nbconvert_exporter": "python",
   "pygments_lexer": "ipython3",
   "version": "3.10.10"
  },
  "papermill": {
   "default_parameters": {},
   "duration": 12.347123,
   "end_time": "2023-06-27T21:33:57.568156",
   "environment_variables": {},
   "exception": null,
   "input_path": "__notebook__.ipynb",
   "output_path": "__notebook__.ipynb",
   "parameters": {},
   "start_time": "2023-06-27T21:33:45.221033",
   "version": "2.4.0"
  }
 },
 "nbformat": 4,
 "nbformat_minor": 5
}
