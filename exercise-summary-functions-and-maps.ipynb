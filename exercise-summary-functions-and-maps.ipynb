{
 "cells": [
  {
   "cell_type": "markdown",
   "id": "4bd28777",
   "metadata": {
    "papermill": {
     "duration": 0.008263,
     "end_time": "2023-06-27T21:02:09.895697",
     "exception": false,
     "start_time": "2023-06-27T21:02:09.887434",
     "status": "completed"
    },
    "tags": []
   },
   "source": [
    "**This notebook is an exercise in the [Pandas](https://www.kaggle.com/learn/pandas) course.  You can reference the tutorial at [this link](https://www.kaggle.com/residentmario/summary-functions-and-maps).**\n",
    "\n",
    "---\n"
   ]
  },
  {
   "cell_type": "markdown",
   "id": "74f64729",
   "metadata": {
    "papermill": {
     "duration": 0.007253,
     "end_time": "2023-06-27T21:02:09.910709",
     "exception": false,
     "start_time": "2023-06-27T21:02:09.903456",
     "status": "completed"
    },
    "tags": []
   },
   "source": [
    "# Introduction\n",
    "\n",
    "Now you are ready to get a deeper understanding of your data.\n",
    "\n",
    "Run the following cell to load your data and some utility functions (including code to check your answers)."
   ]
  },
  {
   "cell_type": "code",
   "execution_count": 1,
   "id": "4638faf3",
   "metadata": {
    "execution": {
     "iopub.execute_input": "2023-06-27T21:02:09.927679Z",
     "iopub.status.busy": "2023-06-27T21:02:09.927284Z",
     "iopub.status.idle": "2023-06-27T21:02:18.427790Z",
     "shell.execute_reply": "2023-06-27T21:02:18.426072Z"
    },
    "papermill": {
     "duration": 8.512808,
     "end_time": "2023-06-27T21:02:18.431037",
     "exception": false,
     "start_time": "2023-06-27T21:02:09.918229",
     "status": "completed"
    },
    "tags": []
   },
   "outputs": [
    {
     "name": "stdout",
     "output_type": "stream",
     "text": [
      "Setup complete.\n"
     ]
    },
    {
     "data": {
      "text/html": [
       "<div>\n",
       "<style scoped>\n",
       "    .dataframe tbody tr th:only-of-type {\n",
       "        vertical-align: middle;\n",
       "    }\n",
       "\n",
       "    .dataframe tbody tr th {\n",
       "        vertical-align: top;\n",
       "    }\n",
       "\n",
       "    .dataframe thead th {\n",
       "        text-align: right;\n",
       "    }\n",
       "</style>\n",
       "<table border=\"1\" class=\"dataframe\">\n",
       "  <thead>\n",
       "    <tr style=\"text-align: right;\">\n",
       "      <th></th>\n",
       "      <th>country</th>\n",
       "      <th>description</th>\n",
       "      <th>designation</th>\n",
       "      <th>points</th>\n",
       "      <th>price</th>\n",
       "      <th>province</th>\n",
       "      <th>region_1</th>\n",
       "      <th>region_2</th>\n",
       "      <th>taster_name</th>\n",
       "      <th>taster_twitter_handle</th>\n",
       "      <th>title</th>\n",
       "      <th>variety</th>\n",
       "      <th>winery</th>\n",
       "    </tr>\n",
       "  </thead>\n",
       "  <tbody>\n",
       "    <tr>\n",
       "      <th>0</th>\n",
       "      <td>Italy</td>\n",
       "      <td>Aromas include tropical fruit, broom, brimston...</td>\n",
       "      <td>Vulkà Bianco</td>\n",
       "      <td>87</td>\n",
       "      <td>NaN</td>\n",
       "      <td>Sicily &amp; Sardinia</td>\n",
       "      <td>Etna</td>\n",
       "      <td>NaN</td>\n",
       "      <td>Kerin O’Keefe</td>\n",
       "      <td>@kerinokeefe</td>\n",
       "      <td>Nicosia 2013 Vulkà Bianco  (Etna)</td>\n",
       "      <td>White Blend</td>\n",
       "      <td>Nicosia</td>\n",
       "    </tr>\n",
       "    <tr>\n",
       "      <th>1</th>\n",
       "      <td>Portugal</td>\n",
       "      <td>This is ripe and fruity, a wine that is smooth...</td>\n",
       "      <td>Avidagos</td>\n",
       "      <td>87</td>\n",
       "      <td>15.0</td>\n",
       "      <td>Douro</td>\n",
       "      <td>NaN</td>\n",
       "      <td>NaN</td>\n",
       "      <td>Roger Voss</td>\n",
       "      <td>@vossroger</td>\n",
       "      <td>Quinta dos Avidagos 2011 Avidagos Red (Douro)</td>\n",
       "      <td>Portuguese Red</td>\n",
       "      <td>Quinta dos Avidagos</td>\n",
       "    </tr>\n",
       "    <tr>\n",
       "      <th>2</th>\n",
       "      <td>US</td>\n",
       "      <td>Tart and snappy, the flavors of lime flesh and...</td>\n",
       "      <td>NaN</td>\n",
       "      <td>87</td>\n",
       "      <td>14.0</td>\n",
       "      <td>Oregon</td>\n",
       "      <td>Willamette Valley</td>\n",
       "      <td>Willamette Valley</td>\n",
       "      <td>Paul Gregutt</td>\n",
       "      <td>@paulgwine</td>\n",
       "      <td>Rainstorm 2013 Pinot Gris (Willamette Valley)</td>\n",
       "      <td>Pinot Gris</td>\n",
       "      <td>Rainstorm</td>\n",
       "    </tr>\n",
       "    <tr>\n",
       "      <th>3</th>\n",
       "      <td>US</td>\n",
       "      <td>Pineapple rind, lemon pith and orange blossom ...</td>\n",
       "      <td>Reserve Late Harvest</td>\n",
       "      <td>87</td>\n",
       "      <td>13.0</td>\n",
       "      <td>Michigan</td>\n",
       "      <td>Lake Michigan Shore</td>\n",
       "      <td>NaN</td>\n",
       "      <td>Alexander Peartree</td>\n",
       "      <td>NaN</td>\n",
       "      <td>St. Julian 2013 Reserve Late Harvest Riesling ...</td>\n",
       "      <td>Riesling</td>\n",
       "      <td>St. Julian</td>\n",
       "    </tr>\n",
       "    <tr>\n",
       "      <th>4</th>\n",
       "      <td>US</td>\n",
       "      <td>Much like the regular bottling from 2012, this...</td>\n",
       "      <td>Vintner's Reserve Wild Child Block</td>\n",
       "      <td>87</td>\n",
       "      <td>65.0</td>\n",
       "      <td>Oregon</td>\n",
       "      <td>Willamette Valley</td>\n",
       "      <td>Willamette Valley</td>\n",
       "      <td>Paul Gregutt</td>\n",
       "      <td>@paulgwine</td>\n",
       "      <td>Sweet Cheeks 2012 Vintner's Reserve Wild Child...</td>\n",
       "      <td>Pinot Noir</td>\n",
       "      <td>Sweet Cheeks</td>\n",
       "    </tr>\n",
       "  </tbody>\n",
       "</table>\n",
       "</div>"
      ],
      "text/plain": [
       "    country                                        description  \\\n",
       "0     Italy  Aromas include tropical fruit, broom, brimston...   \n",
       "1  Portugal  This is ripe and fruity, a wine that is smooth...   \n",
       "2        US  Tart and snappy, the flavors of lime flesh and...   \n",
       "3        US  Pineapple rind, lemon pith and orange blossom ...   \n",
       "4        US  Much like the regular bottling from 2012, this...   \n",
       "\n",
       "                          designation  points  price           province  \\\n",
       "0                        Vulkà Bianco      87    NaN  Sicily & Sardinia   \n",
       "1                            Avidagos      87   15.0              Douro   \n",
       "2                                 NaN      87   14.0             Oregon   \n",
       "3                Reserve Late Harvest      87   13.0           Michigan   \n",
       "4  Vintner's Reserve Wild Child Block      87   65.0             Oregon   \n",
       "\n",
       "              region_1           region_2         taster_name  \\\n",
       "0                 Etna                NaN       Kerin O’Keefe   \n",
       "1                  NaN                NaN          Roger Voss   \n",
       "2    Willamette Valley  Willamette Valley        Paul Gregutt   \n",
       "3  Lake Michigan Shore                NaN  Alexander Peartree   \n",
       "4    Willamette Valley  Willamette Valley        Paul Gregutt   \n",
       "\n",
       "  taster_twitter_handle                                              title  \\\n",
       "0          @kerinokeefe                  Nicosia 2013 Vulkà Bianco  (Etna)   \n",
       "1            @vossroger      Quinta dos Avidagos 2011 Avidagos Red (Douro)   \n",
       "2           @paulgwine       Rainstorm 2013 Pinot Gris (Willamette Valley)   \n",
       "3                   NaN  St. Julian 2013 Reserve Late Harvest Riesling ...   \n",
       "4           @paulgwine   Sweet Cheeks 2012 Vintner's Reserve Wild Child...   \n",
       "\n",
       "          variety               winery  \n",
       "0     White Blend              Nicosia  \n",
       "1  Portuguese Red  Quinta dos Avidagos  \n",
       "2      Pinot Gris            Rainstorm  \n",
       "3        Riesling           St. Julian  \n",
       "4      Pinot Noir         Sweet Cheeks  "
      ]
     },
     "execution_count": 1,
     "metadata": {},
     "output_type": "execute_result"
    }
   ],
   "source": [
    "import pandas as pd\n",
    "pd.set_option(\"display.max_rows\", 5)\n",
    "reviews = pd.read_csv(\"../input/wine-reviews/winemag-data-130k-v2.csv\", index_col=0)\n",
    "\n",
    "from learntools.core import binder; binder.bind(globals())\n",
    "from learntools.pandas.summary_functions_and_maps import *\n",
    "print(\"Setup complete.\")\n",
    "\n",
    "reviews.head()"
   ]
  },
  {
   "cell_type": "markdown",
   "id": "e23dbc6e",
   "metadata": {
    "papermill": {
     "duration": 0.008062,
     "end_time": "2023-06-27T21:02:18.447713",
     "exception": false,
     "start_time": "2023-06-27T21:02:18.439651",
     "status": "completed"
    },
    "tags": []
   },
   "source": [
    "# Exercises"
   ]
  },
  {
   "cell_type": "markdown",
   "id": "a6164631",
   "metadata": {
    "papermill": {
     "duration": 0.009428,
     "end_time": "2023-06-27T21:02:18.466087",
     "exception": false,
     "start_time": "2023-06-27T21:02:18.456659",
     "status": "completed"
    },
    "tags": []
   },
   "source": [
    "## 1.\n",
    "\n",
    "What is the median of the `points` column in the `reviews` DataFrame?"
   ]
  },
  {
   "cell_type": "code",
   "execution_count": 2,
   "id": "d64b440c",
   "metadata": {
    "execution": {
     "iopub.execute_input": "2023-06-27T21:02:18.484650Z",
     "iopub.status.busy": "2023-06-27T21:02:18.483728Z",
     "iopub.status.idle": "2023-06-27T21:02:18.495714Z",
     "shell.execute_reply": "2023-06-27T21:02:18.494645Z"
    },
    "papermill": {
     "duration": 0.023638,
     "end_time": "2023-06-27T21:02:18.497952",
     "exception": false,
     "start_time": "2023-06-27T21:02:18.474314",
     "status": "completed"
    },
    "tags": []
   },
   "outputs": [
    {
     "data": {
      "application/javascript": [
       "parent.postMessage({\"jupyterEvent\": \"custom.exercise_interaction\", \"data\": {\"outcomeType\": 1, \"valueTowardsCompletion\": 0.14285714285714285, \"interactionType\": 1, \"questionType\": 1, \"questionId\": \"1_MedianPoints\", \"learnToolsVersion\": \"0.3.4\", \"failureMessage\": \"\", \"exceptionClass\": \"\", \"trace\": \"\"}}, \"*\")"
      ],
      "text/plain": [
       "<IPython.core.display.Javascript object>"
      ]
     },
     "metadata": {},
     "output_type": "display_data"
    },
    {
     "data": {
      "text/markdown": [
       "<span style=\"color:#33cc33\">Correct</span>"
      ],
      "text/plain": [
       "Correct"
      ]
     },
     "metadata": {},
     "output_type": "display_data"
    }
   ],
   "source": [
    "median_points =reviews.points.median()\n",
    "\n",
    "# Check your answer\n",
    "q1.check()"
   ]
  },
  {
   "cell_type": "code",
   "execution_count": 3,
   "id": "bac93d6d",
   "metadata": {
    "execution": {
     "iopub.execute_input": "2023-06-27T21:02:18.516914Z",
     "iopub.status.busy": "2023-06-27T21:02:18.516155Z",
     "iopub.status.idle": "2023-06-27T21:02:18.520795Z",
     "shell.execute_reply": "2023-06-27T21:02:18.519860Z"
    },
    "papermill": {
     "duration": 0.016728,
     "end_time": "2023-06-27T21:02:18.523204",
     "exception": false,
     "start_time": "2023-06-27T21:02:18.506476",
     "status": "completed"
    },
    "tags": []
   },
   "outputs": [],
   "source": [
    "#q1.hint()\n",
    "#q1.solution()"
   ]
  },
  {
   "cell_type": "markdown",
   "id": "c5d0dc0a",
   "metadata": {
    "papermill": {
     "duration": 0.008206,
     "end_time": "2023-06-27T21:02:18.539924",
     "exception": false,
     "start_time": "2023-06-27T21:02:18.531718",
     "status": "completed"
    },
    "tags": []
   },
   "source": [
    "## 2. \n",
    "What countries are represented in the dataset? (Your answer should not include any duplicates.)"
   ]
  },
  {
   "cell_type": "code",
   "execution_count": 4,
   "id": "18e02323",
   "metadata": {
    "execution": {
     "iopub.execute_input": "2023-06-27T21:02:18.559085Z",
     "iopub.status.busy": "2023-06-27T21:02:18.558290Z",
     "iopub.status.idle": "2023-06-27T21:02:18.580189Z",
     "shell.execute_reply": "2023-06-27T21:02:18.579363Z"
    },
    "papermill": {
     "duration": 0.033941,
     "end_time": "2023-06-27T21:02:18.582275",
     "exception": false,
     "start_time": "2023-06-27T21:02:18.548334",
     "status": "completed"
    },
    "tags": []
   },
   "outputs": [
    {
     "data": {
      "application/javascript": [
       "parent.postMessage({\"jupyterEvent\": \"custom.exercise_interaction\", \"data\": {\"outcomeType\": 1, \"valueTowardsCompletion\": 0.14285714285714285, \"interactionType\": 1, \"questionType\": 2, \"questionId\": \"2_UniqueCountries\", \"learnToolsVersion\": \"0.3.4\", \"failureMessage\": \"\", \"exceptionClass\": \"\", \"trace\": \"\"}}, \"*\")"
      ],
      "text/plain": [
       "<IPython.core.display.Javascript object>"
      ]
     },
     "metadata": {},
     "output_type": "display_data"
    },
    {
     "data": {
      "text/markdown": [
       "<span style=\"color:#33cc33\">Correct</span>"
      ],
      "text/plain": [
       "Correct"
      ]
     },
     "metadata": {},
     "output_type": "display_data"
    }
   ],
   "source": [
    "countries = reviews.country.unique()\n",
    "\n",
    "# Check your answer\n",
    "q2.check()"
   ]
  },
  {
   "cell_type": "code",
   "execution_count": 5,
   "id": "1d14343c",
   "metadata": {
    "execution": {
     "iopub.execute_input": "2023-06-27T21:02:18.602267Z",
     "iopub.status.busy": "2023-06-27T21:02:18.601147Z",
     "iopub.status.idle": "2023-06-27T21:02:18.605762Z",
     "shell.execute_reply": "2023-06-27T21:02:18.605013Z"
    },
    "papermill": {
     "duration": 0.01673,
     "end_time": "2023-06-27T21:02:18.607859",
     "exception": false,
     "start_time": "2023-06-27T21:02:18.591129",
     "status": "completed"
    },
    "tags": []
   },
   "outputs": [],
   "source": [
    "#q2.hint()\n",
    "#q2.solution()"
   ]
  },
  {
   "cell_type": "markdown",
   "id": "dc63cfd4",
   "metadata": {
    "papermill": {
     "duration": 0.008518,
     "end_time": "2023-06-27T21:02:18.625293",
     "exception": false,
     "start_time": "2023-06-27T21:02:18.616775",
     "status": "completed"
    },
    "tags": []
   },
   "source": [
    "## 3.\n",
    "How often does each country appear in the dataset? Create a Series `reviews_per_country` mapping countries to the count of reviews of wines from that country."
   ]
  },
  {
   "cell_type": "code",
   "execution_count": 6,
   "id": "43a505e5",
   "metadata": {
    "execution": {
     "iopub.execute_input": "2023-06-27T21:02:18.645590Z",
     "iopub.status.busy": "2023-06-27T21:02:18.644873Z",
     "iopub.status.idle": "2023-06-27T21:02:18.676587Z",
     "shell.execute_reply": "2023-06-27T21:02:18.675615Z"
    },
    "papermill": {
     "duration": 0.044471,
     "end_time": "2023-06-27T21:02:18.678781",
     "exception": false,
     "start_time": "2023-06-27T21:02:18.634310",
     "status": "completed"
    },
    "tags": []
   },
   "outputs": [
    {
     "name": "stdout",
     "output_type": "stream",
     "text": [
      "US        54504\n",
      "France    22093\n",
      "          ...  \n",
      "China         1\n",
      "Egypt         1\n",
      "Name: country, Length: 43, dtype: int64\n"
     ]
    },
    {
     "data": {
      "application/javascript": [
       "parent.postMessage({\"jupyterEvent\": \"custom.exercise_interaction\", \"data\": {\"outcomeType\": 1, \"valueTowardsCompletion\": 0.14285714285714285, \"interactionType\": 1, \"questionType\": 1, \"questionId\": \"3_ReviewsPerCountry\", \"learnToolsVersion\": \"0.3.4\", \"failureMessage\": \"\", \"exceptionClass\": \"\", \"trace\": \"\"}}, \"*\")"
      ],
      "text/plain": [
       "<IPython.core.display.Javascript object>"
      ]
     },
     "metadata": {},
     "output_type": "display_data"
    },
    {
     "data": {
      "text/markdown": [
       "<span style=\"color:#33cc33\">Correct</span>"
      ],
      "text/plain": [
       "Correct"
      ]
     },
     "metadata": {},
     "output_type": "display_data"
    }
   ],
   "source": [
    "reviews_per_country = reviews.country.value_counts()\n",
    "print(reviews_per_country)\n",
    "\n",
    "# Check your answer\n",
    "q3.check()"
   ]
  },
  {
   "cell_type": "code",
   "execution_count": 7,
   "id": "65cb75b0",
   "metadata": {
    "execution": {
     "iopub.execute_input": "2023-06-27T21:02:18.699314Z",
     "iopub.status.busy": "2023-06-27T21:02:18.698933Z",
     "iopub.status.idle": "2023-06-27T21:02:18.703176Z",
     "shell.execute_reply": "2023-06-27T21:02:18.702020Z"
    },
    "papermill": {
     "duration": 0.017292,
     "end_time": "2023-06-27T21:02:18.705499",
     "exception": false,
     "start_time": "2023-06-27T21:02:18.688207",
     "status": "completed"
    },
    "tags": []
   },
   "outputs": [],
   "source": [
    "#q3.hint()\n",
    "#q3.solution()"
   ]
  },
  {
   "cell_type": "markdown",
   "id": "462d477c",
   "metadata": {
    "papermill": {
     "duration": 0.009049,
     "end_time": "2023-06-27T21:02:18.724117",
     "exception": false,
     "start_time": "2023-06-27T21:02:18.715068",
     "status": "completed"
    },
    "tags": []
   },
   "source": [
    "## 4.\n",
    "Create variable `centered_price` containing a version of the `price` column with the mean price subtracted.\n",
    "\n",
    "(Note: this 'centering' transformation is a common preprocessing step before applying various machine learning algorithms.) "
   ]
  },
  {
   "cell_type": "code",
   "execution_count": 8,
   "id": "ad3b6b21",
   "metadata": {
    "execution": {
     "iopub.execute_input": "2023-06-27T21:02:18.745171Z",
     "iopub.status.busy": "2023-06-27T21:02:18.744354Z",
     "iopub.status.idle": "2023-06-27T21:02:18.851511Z",
     "shell.execute_reply": "2023-06-27T21:02:18.850432Z"
    },
    "papermill": {
     "duration": 0.120498,
     "end_time": "2023-06-27T21:02:18.853903",
     "exception": false,
     "start_time": "2023-06-27T21:02:18.733405",
     "status": "completed"
    },
    "tags": []
   },
   "outputs": [
    {
     "data": {
      "application/javascript": [
       "parent.postMessage({\"jupyterEvent\": \"custom.exercise_interaction\", \"data\": {\"outcomeType\": 1, \"valueTowardsCompletion\": 0.14285714285714285, \"interactionType\": 1, \"questionType\": 1, \"questionId\": \"4_CenteredPrice\", \"learnToolsVersion\": \"0.3.4\", \"failureMessage\": \"\", \"exceptionClass\": \"\", \"trace\": \"\"}}, \"*\")"
      ],
      "text/plain": [
       "<IPython.core.display.Javascript object>"
      ]
     },
     "metadata": {},
     "output_type": "display_data"
    },
    {
     "data": {
      "text/markdown": [
       "<span style=\"color:#33cc33\">Correct</span>"
      ],
      "text/plain": [
       "Correct"
      ]
     },
     "metadata": {},
     "output_type": "display_data"
    }
   ],
   "source": [
    "prices_mean=reviews.price.mean()\n",
    "centered_price = reviews.price.map(lambda p: p - prices_mean)\n",
    "\n",
    "# Check your answer\n",
    "q4.check()"
   ]
  },
  {
   "cell_type": "code",
   "execution_count": 9,
   "id": "85c23f6e",
   "metadata": {
    "execution": {
     "iopub.execute_input": "2023-06-27T21:02:18.875641Z",
     "iopub.status.busy": "2023-06-27T21:02:18.875233Z",
     "iopub.status.idle": "2023-06-27T21:02:18.879531Z",
     "shell.execute_reply": "2023-06-27T21:02:18.878313Z"
    },
    "papermill": {
     "duration": 0.017989,
     "end_time": "2023-06-27T21:02:18.882013",
     "exception": false,
     "start_time": "2023-06-27T21:02:18.864024",
     "status": "completed"
    },
    "tags": []
   },
   "outputs": [],
   "source": [
    "#q4.hint()\n",
    "#q4.solution()"
   ]
  },
  {
   "cell_type": "markdown",
   "id": "93167ace",
   "metadata": {
    "papermill": {
     "duration": 0.009618,
     "end_time": "2023-06-27T21:02:18.901944",
     "exception": false,
     "start_time": "2023-06-27T21:02:18.892326",
     "status": "completed"
    },
    "tags": []
   },
   "source": [
    "## 5.\n",
    "I'm an economical wine buyer. Which wine is the \"best bargain\"? Create a variable `bargain_wine` with the title of the wine with the highest points-to-price ratio in the dataset."
   ]
  },
  {
   "cell_type": "code",
   "execution_count": 10,
   "id": "eac8e2ba",
   "metadata": {
    "execution": {
     "iopub.execute_input": "2023-06-27T21:02:18.924012Z",
     "iopub.status.busy": "2023-06-27T21:02:18.923350Z",
     "iopub.status.idle": "2023-06-27T21:02:18.935763Z",
     "shell.execute_reply": "2023-06-27T21:02:18.934581Z"
    },
    "papermill": {
     "duration": 0.026409,
     "end_time": "2023-06-27T21:02:18.938437",
     "exception": false,
     "start_time": "2023-06-27T21:02:18.912028",
     "status": "completed"
    },
    "tags": []
   },
   "outputs": [
    {
     "data": {
      "application/javascript": [
       "parent.postMessage({\"jupyterEvent\": \"custom.exercise_interaction\", \"data\": {\"outcomeType\": 1, \"valueTowardsCompletion\": 0.14285714285714285, \"interactionType\": 1, \"questionType\": 2, \"questionId\": \"5_BargainWine\", \"learnToolsVersion\": \"0.3.4\", \"failureMessage\": \"\", \"exceptionClass\": \"\", \"trace\": \"\"}}, \"*\")"
      ],
      "text/plain": [
       "<IPython.core.display.Javascript object>"
      ]
     },
     "metadata": {},
     "output_type": "display_data"
    },
    {
     "data": {
      "text/markdown": [
       "<span style=\"color:#33cc33\">Correct</span>"
      ],
      "text/plain": [
       "Correct"
      ]
     },
     "metadata": {},
     "output_type": "display_data"
    }
   ],
   "source": [
    "bargain_index = (reviews.points / reviews.price).idxmax()\n",
    "bargain_wine = reviews.loc[bargain_index, 'title']\n",
    "\n",
    "# Check your answer\n",
    "q5.check()"
   ]
  },
  {
   "cell_type": "code",
   "execution_count": 11,
   "id": "01ed27f0",
   "metadata": {
    "execution": {
     "iopub.execute_input": "2023-06-27T21:02:18.960498Z",
     "iopub.status.busy": "2023-06-27T21:02:18.960075Z",
     "iopub.status.idle": "2023-06-27T21:02:18.964277Z",
     "shell.execute_reply": "2023-06-27T21:02:18.963303Z"
    },
    "papermill": {
     "duration": 0.018089,
     "end_time": "2023-06-27T21:02:18.966703",
     "exception": false,
     "start_time": "2023-06-27T21:02:18.948614",
     "status": "completed"
    },
    "tags": []
   },
   "outputs": [],
   "source": [
    "#q5.hint()\n",
    "#q5.solution()"
   ]
  },
  {
   "cell_type": "markdown",
   "id": "74ea3a63",
   "metadata": {
    "papermill": {
     "duration": 0.010329,
     "end_time": "2023-06-27T21:02:18.987370",
     "exception": false,
     "start_time": "2023-06-27T21:02:18.977041",
     "status": "completed"
    },
    "tags": []
   },
   "source": [
    "## 6.\n",
    "There are only so many words you can use when describing a bottle of wine. Is a wine more likely to be \"tropical\" or \"fruity\"? Create a Series `descriptor_counts` counting how many times each of these two words appears in the `description` column in the dataset. (For simplicity, let's ignore the capitalized versions of these words.)"
   ]
  },
  {
   "cell_type": "code",
   "execution_count": 12,
   "id": "c16537b8",
   "metadata": {
    "execution": {
     "iopub.execute_input": "2023-06-27T21:02:19.010737Z",
     "iopub.status.busy": "2023-06-27T21:02:19.009741Z",
     "iopub.status.idle": "2023-06-27T21:02:19.174048Z",
     "shell.execute_reply": "2023-06-27T21:02:19.172941Z"
    },
    "papermill": {
     "duration": 0.179247,
     "end_time": "2023-06-27T21:02:19.176797",
     "exception": false,
     "start_time": "2023-06-27T21:02:18.997550",
     "status": "completed"
    },
    "tags": []
   },
   "outputs": [
    {
     "data": {
      "application/javascript": [
       "parent.postMessage({\"jupyterEvent\": \"custom.exercise_interaction\", \"data\": {\"outcomeType\": 1, \"valueTowardsCompletion\": 0.14285714285714285, \"interactionType\": 1, \"questionType\": 1, \"questionId\": \"6_DescriptorCounts\", \"learnToolsVersion\": \"0.3.4\", \"failureMessage\": \"\", \"exceptionClass\": \"\", \"trace\": \"\"}}, \"*\")"
      ],
      "text/plain": [
       "<IPython.core.display.Javascript object>"
      ]
     },
     "metadata": {},
     "output_type": "display_data"
    },
    {
     "data": {
      "text/markdown": [
       "<span style=\"color:#33cc33\">Correct</span>"
      ],
      "text/plain": [
       "Correct"
      ]
     },
     "metadata": {},
     "output_type": "display_data"
    }
   ],
   "source": [
    "\n",
    "\n",
    "trop = reviews.description.map(lambda desc: \"tropical\" in desc).sum()\n",
    "fruity = reviews.description.map(lambda desc: \"fruity\" in desc).sum()\n",
    "descriptor_counts = pd.Series([trop, fruity], index=['tropical', 'fruity'])\n",
    "\n",
    "# Check your answer\n",
    "q6.check()"
   ]
  },
  {
   "cell_type": "code",
   "execution_count": 13,
   "id": "b8178f04",
   "metadata": {
    "execution": {
     "iopub.execute_input": "2023-06-27T21:02:19.199762Z",
     "iopub.status.busy": "2023-06-27T21:02:19.199362Z",
     "iopub.status.idle": "2023-06-27T21:02:19.203749Z",
     "shell.execute_reply": "2023-06-27T21:02:19.202696Z"
    },
    "papermill": {
     "duration": 0.018661,
     "end_time": "2023-06-27T21:02:19.206055",
     "exception": false,
     "start_time": "2023-06-27T21:02:19.187394",
     "status": "completed"
    },
    "tags": []
   },
   "outputs": [],
   "source": [
    "#q6.hint()\n",
    "#q6.solution()"
   ]
  },
  {
   "cell_type": "markdown",
   "id": "68b9bde5",
   "metadata": {
    "papermill": {
     "duration": 0.010214,
     "end_time": "2023-06-27T21:02:19.226754",
     "exception": false,
     "start_time": "2023-06-27T21:02:19.216540",
     "status": "completed"
    },
    "tags": []
   },
   "source": [
    "## 7.\n",
    "We'd like to host these wine reviews on our website, but a rating system ranging from 80 to 100 points is too hard to understand - we'd like to translate them into simple star ratings. A score of 95 or higher counts as 3 stars, a score of at least 85 but less than 95 is 2 stars. Any other score is 1 star.\n",
    "\n",
    "Also, the Canadian Vintners Association bought a lot of ads on the site, so any wines from Canada should automatically get 3 stars, regardless of points.\n",
    "\n",
    "Create a series `star_ratings` with the number of stars corresponding to each review in the dataset."
   ]
  },
  {
   "cell_type": "code",
   "execution_count": 14,
   "id": "31efd4cf",
   "metadata": {
    "execution": {
     "iopub.execute_input": "2023-06-27T21:02:19.249759Z",
     "iopub.status.busy": "2023-06-27T21:02:19.249369Z",
     "iopub.status.idle": "2023-06-27T21:02:19.259023Z",
     "shell.execute_reply": "2023-06-27T21:02:19.257961Z"
    },
    "papermill": {
     "duration": 0.024306,
     "end_time": "2023-06-27T21:02:19.261574",
     "exception": false,
     "start_time": "2023-06-27T21:02:19.237268",
     "status": "completed"
    },
    "tags": []
   },
   "outputs": [
    {
     "data": {
      "application/javascript": [
       "parent.postMessage({\"jupyterEvent\": \"custom.exercise_interaction\", \"data\": {\"outcomeType\": 4, \"interactionType\": 1, \"questionType\": 1, \"questionId\": \"7_StarRatings\", \"learnToolsVersion\": \"0.3.4\", \"valueTowardsCompletion\": 0.0, \"failureMessage\": \"\", \"exceptionClass\": \"\", \"trace\": \"\"}}, \"*\")"
      ],
      "text/plain": [
       "<IPython.core.display.Javascript object>"
      ]
     },
     "metadata": {},
     "output_type": "display_data"
    },
    {
     "data": {
      "text/markdown": [
       "<span style=\"color:#ccaa33\">Check:</span> When you've updated the starter code, `check()` will tell you whether your code is correct. Remember, you must create the following variable: `star_ratings`"
      ],
      "text/plain": [
       "Check: When you've updated the starter code, `check()` will tell you whether your code is correct. Remember, you must create the following variable: `star_ratings`"
      ]
     },
     "metadata": {},
     "output_type": "display_data"
    }
   ],
   "source": [
    "def stars(row):\n",
    "    if row.country == 'Canada':\n",
    "        return 3\n",
    "    elif row.points >= 95:\n",
    "        return 3\n",
    "    elif row.points >= 85:\n",
    "        return 2\n",
    "    else:\n",
    "        return 1\n",
    "\n",
    "\n",
    "# Check your answer\n",
    "q7.check()"
   ]
  },
  {
   "cell_type": "code",
   "execution_count": 15,
   "id": "ddb587a1",
   "metadata": {
    "execution": {
     "iopub.execute_input": "2023-06-27T21:02:19.285686Z",
     "iopub.status.busy": "2023-06-27T21:02:19.285287Z",
     "iopub.status.idle": "2023-06-27T21:02:19.289732Z",
     "shell.execute_reply": "2023-06-27T21:02:19.288631Z"
    },
    "papermill": {
     "duration": 0.019487,
     "end_time": "2023-06-27T21:02:19.292328",
     "exception": false,
     "start_time": "2023-06-27T21:02:19.272841",
     "status": "completed"
    },
    "tags": []
   },
   "outputs": [],
   "source": [
    "#q7.hint()\n",
    "#q7.solution()"
   ]
  },
  {
   "cell_type": "markdown",
   "id": "83b981bc",
   "metadata": {
    "papermill": {
     "duration": 0.011006,
     "end_time": "2023-06-27T21:02:19.314486",
     "exception": false,
     "start_time": "2023-06-27T21:02:19.303480",
     "status": "completed"
    },
    "tags": []
   },
   "source": [
    "# Keep going\n",
    "Continue to **[grouping and sorting](https://www.kaggle.com/residentmario/grouping-and-sorting)**."
   ]
  },
  {
   "cell_type": "markdown",
   "id": "77a843c4",
   "metadata": {
    "papermill": {
     "duration": 0.010518,
     "end_time": "2023-06-27T21:02:19.336309",
     "exception": false,
     "start_time": "2023-06-27T21:02:19.325791",
     "status": "completed"
    },
    "tags": []
   },
   "source": [
    "---\n",
    "\n",
    "\n",
    "\n",
    "\n",
    "*Have questions or comments? Visit the [course discussion forum](https://www.kaggle.com/learn/pandas/discussion) to chat with other learners.*"
   ]
  }
 ],
 "metadata": {
  "kernelspec": {
   "display_name": "Python 3",
   "language": "python",
   "name": "python3"
  },
  "language_info": {
   "codemirror_mode": {
    "name": "ipython",
    "version": 3
   },
   "file_extension": ".py",
   "mimetype": "text/x-python",
   "name": "python",
   "nbconvert_exporter": "python",
   "pygments_lexer": "ipython3",
   "version": "3.10.10"
  },
  "papermill": {
   "default_parameters": {},
   "duration": 22.561227,
   "end_time": "2023-06-27T21:02:20.270490",
   "environment_variables": {},
   "exception": null,
   "input_path": "__notebook__.ipynb",
   "output_path": "__notebook__.ipynb",
   "parameters": {},
   "start_time": "2023-06-27T21:01:57.709263",
   "version": "2.4.0"
  }
 },
 "nbformat": 4,
 "nbformat_minor": 5
}
