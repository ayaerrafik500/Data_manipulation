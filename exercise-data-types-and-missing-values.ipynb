{
 "cells": [
  {
   "cell_type": "markdown",
   "id": "30448452",
   "metadata": {
    "papermill": {
     "duration": 0.005722,
     "end_time": "2023-06-27T22:43:26.923382",
     "exception": false,
     "start_time": "2023-06-27T22:43:26.917660",
     "status": "completed"
    },
    "tags": []
   },
   "source": [
    "**This notebook is an exercise in the [Pandas](https://www.kaggle.com/learn/pandas) course.  You can reference the tutorial at [this link](https://www.kaggle.com/residentmario/data-types-and-missing-values).**\n",
    "\n",
    "---\n"
   ]
  },
  {
   "cell_type": "markdown",
   "id": "0acc30d4",
   "metadata": {
    "papermill": {
     "duration": 0.004997,
     "end_time": "2023-06-27T22:43:26.933596",
     "exception": false,
     "start_time": "2023-06-27T22:43:26.928599",
     "status": "completed"
    },
    "tags": []
   },
   "source": [
    "# Introduction\n",
    "\n",
    "Run the following cell to load your data and some utility functions."
   ]
  },
  {
   "cell_type": "code",
   "execution_count": 1,
   "id": "dbe9a0ed",
   "metadata": {
    "execution": {
     "iopub.execute_input": "2023-06-27T22:43:26.946286Z",
     "iopub.status.busy": "2023-06-27T22:43:26.945500Z",
     "iopub.status.idle": "2023-06-27T22:43:30.008071Z",
     "shell.execute_reply": "2023-06-27T22:43:30.006962Z"
    },
    "papermill": {
     "duration": 3.072034,
     "end_time": "2023-06-27T22:43:30.010761",
     "exception": false,
     "start_time": "2023-06-27T22:43:26.938727",
     "status": "completed"
    },
    "tags": []
   },
   "outputs": [
    {
     "name": "stdout",
     "output_type": "stream",
     "text": [
      "Setup complete.\n"
     ]
    }
   ],
   "source": [
    "import pandas as pd\n",
    "\n",
    "reviews = pd.read_csv(\"../input/wine-reviews/winemag-data-130k-v2.csv\", index_col=0)\n",
    "\n",
    "from learntools.core import binder; binder.bind(globals())\n",
    "from learntools.pandas.data_types_and_missing_data import *\n",
    "print(\"Setup complete.\")"
   ]
  },
  {
   "cell_type": "markdown",
   "id": "d5b84025",
   "metadata": {
    "papermill": {
     "duration": 0.004983,
     "end_time": "2023-06-27T22:43:30.021255",
     "exception": false,
     "start_time": "2023-06-27T22:43:30.016272",
     "status": "completed"
    },
    "tags": []
   },
   "source": [
    "# Exercises"
   ]
  },
  {
   "cell_type": "markdown",
   "id": "b8f2ed35",
   "metadata": {
    "papermill": {
     "duration": 0.004969,
     "end_time": "2023-06-27T22:43:30.031443",
     "exception": false,
     "start_time": "2023-06-27T22:43:30.026474",
     "status": "completed"
    },
    "tags": []
   },
   "source": [
    "## 1. \n",
    "What is the data type of the `points` column in the dataset?"
   ]
  },
  {
   "cell_type": "code",
   "execution_count": 2,
   "id": "906291cf",
   "metadata": {
    "execution": {
     "iopub.execute_input": "2023-06-27T22:43:30.043283Z",
     "iopub.status.busy": "2023-06-27T22:43:30.042953Z",
     "iopub.status.idle": "2023-06-27T22:43:30.054234Z",
     "shell.execute_reply": "2023-06-27T22:43:30.053228Z"
    },
    "papermill": {
     "duration": 0.020349,
     "end_time": "2023-06-27T22:43:30.056892",
     "exception": false,
     "start_time": "2023-06-27T22:43:30.036543",
     "status": "completed"
    },
    "tags": []
   },
   "outputs": [
    {
     "name": "stdout",
     "output_type": "stream",
     "text": [
      "int64\n"
     ]
    },
    {
     "data": {
      "application/javascript": [
       "parent.postMessage({\"jupyterEvent\": \"custom.exercise_interaction\", \"data\": {\"outcomeType\": 1, \"valueTowardsCompletion\": 0.25, \"interactionType\": 1, \"questionType\": 1, \"questionId\": \"1_PointsDtype\", \"learnToolsVersion\": \"0.3.4\", \"failureMessage\": \"\", \"exceptionClass\": \"\", \"trace\": \"\"}}, \"*\")"
      ],
      "text/plain": [
       "<IPython.core.display.Javascript object>"
      ]
     },
     "metadata": {},
     "output_type": "display_data"
    },
    {
     "data": {
      "text/markdown": [
       "<span style=\"color:#33cc33\">Correct</span>"
      ],
      "text/plain": [
       "Correct"
      ]
     },
     "metadata": {},
     "output_type": "display_data"
    }
   ],
   "source": [
    "# Your code here\n",
    "dtype = reviews.points.dtype\n",
    "\n",
    "print(dtype)\n",
    "# Check your answer\n",
    "q1.check()"
   ]
  },
  {
   "cell_type": "code",
   "execution_count": 3,
   "id": "4c8371e5",
   "metadata": {
    "execution": {
     "iopub.execute_input": "2023-06-27T22:43:30.071707Z",
     "iopub.status.busy": "2023-06-27T22:43:30.070891Z",
     "iopub.status.idle": "2023-06-27T22:43:30.075548Z",
     "shell.execute_reply": "2023-06-27T22:43:30.074545Z"
    },
    "papermill": {
     "duration": 0.014067,
     "end_time": "2023-06-27T22:43:30.078045",
     "exception": false,
     "start_time": "2023-06-27T22:43:30.063978",
     "status": "completed"
    },
    "tags": []
   },
   "outputs": [],
   "source": [
    "#q1.hint()\n",
    "#q1.solution()"
   ]
  },
  {
   "cell_type": "markdown",
   "id": "af2393bc",
   "metadata": {
    "papermill": {
     "duration": 0.005309,
     "end_time": "2023-06-27T22:43:30.089061",
     "exception": false,
     "start_time": "2023-06-27T22:43:30.083752",
     "status": "completed"
    },
    "tags": []
   },
   "source": [
    "## 2. \n",
    "Create a Series from entries in the `points` column, but convert the entries to strings. Hint: strings are `str` in native Python."
   ]
  },
  {
   "cell_type": "code",
   "execution_count": 4,
   "id": "81448009",
   "metadata": {
    "execution": {
     "iopub.execute_input": "2023-06-27T22:43:30.101901Z",
     "iopub.status.busy": "2023-06-27T22:43:30.101536Z",
     "iopub.status.idle": "2023-06-27T22:43:30.197153Z",
     "shell.execute_reply": "2023-06-27T22:43:30.196098Z"
    },
    "papermill": {
     "duration": 0.104467,
     "end_time": "2023-06-27T22:43:30.199289",
     "exception": false,
     "start_time": "2023-06-27T22:43:30.094822",
     "status": "completed"
    },
    "tags": []
   },
   "outputs": [
    {
     "data": {
      "application/javascript": [
       "parent.postMessage({\"jupyterEvent\": \"custom.exercise_interaction\", \"data\": {\"outcomeType\": 1, \"valueTowardsCompletion\": 0.25, \"interactionType\": 1, \"questionType\": 1, \"questionId\": \"2_StrPoints\", \"learnToolsVersion\": \"0.3.4\", \"failureMessage\": \"\", \"exceptionClass\": \"\", \"trace\": \"\"}}, \"*\")"
      ],
      "text/plain": [
       "<IPython.core.display.Javascript object>"
      ]
     },
     "metadata": {},
     "output_type": "display_data"
    },
    {
     "data": {
      "text/markdown": [
       "<span style=\"color:#33cc33\">Correct</span>"
      ],
      "text/plain": [
       "Correct"
      ]
     },
     "metadata": {},
     "output_type": "display_data"
    }
   ],
   "source": [
    "point_strings = reviews.points.astype(str)\n",
    "\n",
    "# Check your answer\n",
    "q2.check()"
   ]
  },
  {
   "cell_type": "code",
   "execution_count": 5,
   "id": "76dc3074",
   "metadata": {
    "execution": {
     "iopub.execute_input": "2023-06-27T22:43:30.212926Z",
     "iopub.status.busy": "2023-06-27T22:43:30.212579Z",
     "iopub.status.idle": "2023-06-27T22:43:30.216524Z",
     "shell.execute_reply": "2023-06-27T22:43:30.215530Z"
    },
    "papermill": {
     "duration": 0.0132,
     "end_time": "2023-06-27T22:43:30.218608",
     "exception": false,
     "start_time": "2023-06-27T22:43:30.205408",
     "status": "completed"
    },
    "tags": []
   },
   "outputs": [],
   "source": [
    "#q2.hint()\n",
    "#q2.solution()"
   ]
  },
  {
   "cell_type": "markdown",
   "id": "a4d8fc4b",
   "metadata": {
    "papermill": {
     "duration": 0.005893,
     "end_time": "2023-06-27T22:43:30.230501",
     "exception": false,
     "start_time": "2023-06-27T22:43:30.224608",
     "status": "completed"
    },
    "tags": []
   },
   "source": [
    "## 3.\n",
    "Sometimes the price column is null. How many reviews in the dataset are missing a price?"
   ]
  },
  {
   "cell_type": "code",
   "execution_count": 6,
   "id": "31d875f7",
   "metadata": {
    "execution": {
     "iopub.execute_input": "2023-06-27T22:43:30.243756Z",
     "iopub.status.busy": "2023-06-27T22:43:30.243389Z",
     "iopub.status.idle": "2023-06-27T22:43:30.258802Z",
     "shell.execute_reply": "2023-06-27T22:43:30.257908Z"
    },
    "papermill": {
     "duration": 0.024764,
     "end_time": "2023-06-27T22:43:30.260978",
     "exception": false,
     "start_time": "2023-06-27T22:43:30.236214",
     "status": "completed"
    },
    "tags": []
   },
   "outputs": [
    {
     "data": {
      "application/javascript": [
       "parent.postMessage({\"jupyterEvent\": \"custom.exercise_interaction\", \"data\": {\"outcomeType\": 1, \"valueTowardsCompletion\": 0.25, \"interactionType\": 1, \"questionType\": 1, \"questionId\": \"3_CountMissingPrices\", \"learnToolsVersion\": \"0.3.4\", \"failureMessage\": \"\", \"exceptionClass\": \"\", \"trace\": \"\"}}, \"*\")"
      ],
      "text/plain": [
       "<IPython.core.display.Javascript object>"
      ]
     },
     "metadata": {},
     "output_type": "display_data"
    },
    {
     "data": {
      "text/markdown": [
       "<span style=\"color:#33cc33\">Correct</span>"
      ],
      "text/plain": [
       "Correct"
      ]
     },
     "metadata": {},
     "output_type": "display_data"
    }
   ],
   "source": [
    "n_missing_prices = len(reviews[pd.isnull(reviews.price)])\n",
    "\n",
    "# Check your answer\n",
    "q3.check()"
   ]
  },
  {
   "cell_type": "code",
   "execution_count": 7,
   "id": "c38b3716",
   "metadata": {
    "execution": {
     "iopub.execute_input": "2023-06-27T22:43:30.275235Z",
     "iopub.status.busy": "2023-06-27T22:43:30.274909Z",
     "iopub.status.idle": "2023-06-27T22:43:30.279085Z",
     "shell.execute_reply": "2023-06-27T22:43:30.277805Z"
    },
    "papermill": {
     "duration": 0.014677,
     "end_time": "2023-06-27T22:43:30.281943",
     "exception": false,
     "start_time": "2023-06-27T22:43:30.267266",
     "status": "completed"
    },
    "tags": []
   },
   "outputs": [],
   "source": [
    "#q3.hint()\n",
    "#q3.solution()"
   ]
  },
  {
   "cell_type": "markdown",
   "id": "b8b67881",
   "metadata": {
    "papermill": {
     "duration": 0.006156,
     "end_time": "2023-06-27T22:43:30.294800",
     "exception": false,
     "start_time": "2023-06-27T22:43:30.288644",
     "status": "completed"
    },
    "tags": []
   },
   "source": [
    "## 4.\n",
    "What are the most common wine-producing regions? Create a Series counting the number of times each value occurs in the `region_1` field. This field is often missing data, so replace missing values with `Unknown`. Sort in descending order.  Your output should look something like this:\n",
    "\n",
    "```\n",
    "Unknown                    21247\n",
    "Napa Valley                 4480\n",
    "                           ...  \n",
    "Bardolino Superiore            1\n",
    "Primitivo del Tarantino        1\n",
    "Name: region_1, Length: 1230, dtype: int64\n",
    "```"
   ]
  },
  {
   "cell_type": "code",
   "execution_count": 8,
   "id": "828e63bb",
   "metadata": {
    "execution": {
     "iopub.execute_input": "2023-06-27T22:43:30.308749Z",
     "iopub.status.busy": "2023-06-27T22:43:30.308406Z",
     "iopub.status.idle": "2023-06-27T22:43:30.386392Z",
     "shell.execute_reply": "2023-06-27T22:43:30.385321Z"
    },
    "papermill": {
     "duration": 0.087684,
     "end_time": "2023-06-27T22:43:30.388687",
     "exception": false,
     "start_time": "2023-06-27T22:43:30.301003",
     "status": "completed"
    },
    "tags": []
   },
   "outputs": [
    {
     "data": {
      "application/javascript": [
       "parent.postMessage({\"jupyterEvent\": \"custom.exercise_interaction\", \"data\": {\"outcomeType\": 1, \"valueTowardsCompletion\": 0.25, \"interactionType\": 1, \"questionType\": 2, \"questionId\": \"4_ReviewsPerRegion\", \"learnToolsVersion\": \"0.3.4\", \"failureMessage\": \"\", \"exceptionClass\": \"\", \"trace\": \"\"}}, \"*\")"
      ],
      "text/plain": [
       "<IPython.core.display.Javascript object>"
      ]
     },
     "metadata": {},
     "output_type": "display_data"
    },
    {
     "data": {
      "text/markdown": [
       "<span style=\"color:#33cc33\">Correct</span>"
      ],
      "text/plain": [
       "Correct"
      ]
     },
     "metadata": {},
     "output_type": "display_data"
    }
   ],
   "source": [
    "reviews_filled=reviews.region_1.fillna('Unknown')\n",
    "reviews_per_region = reviews_filled.value_counts().sort_values(ascending=False)\n",
    "\n",
    "# Check your answer\n",
    "q4.check()"
   ]
  },
  {
   "cell_type": "code",
   "execution_count": 9,
   "id": "e4eb3fd0",
   "metadata": {
    "execution": {
     "iopub.execute_input": "2023-06-27T22:43:30.403530Z",
     "iopub.status.busy": "2023-06-27T22:43:30.403144Z",
     "iopub.status.idle": "2023-06-27T22:43:30.407641Z",
     "shell.execute_reply": "2023-06-27T22:43:30.406629Z"
    },
    "papermill": {
     "duration": 0.014468,
     "end_time": "2023-06-27T22:43:30.409760",
     "exception": false,
     "start_time": "2023-06-27T22:43:30.395292",
     "status": "completed"
    },
    "tags": []
   },
   "outputs": [],
   "source": [
    "#q4.hint()\n",
    "#q4.solution()"
   ]
  },
  {
   "cell_type": "markdown",
   "id": "efdf9764",
   "metadata": {
    "papermill": {
     "duration": 0.006037,
     "end_time": "2023-06-27T22:43:30.422842",
     "exception": false,
     "start_time": "2023-06-27T22:43:30.416805",
     "status": "completed"
    },
    "tags": []
   },
   "source": [
    "# Keep going\n",
    "\n",
    "Move on to **[renaming and combining](https://www.kaggle.com/residentmario/renaming-and-combining)**."
   ]
  },
  {
   "cell_type": "markdown",
   "id": "b6fc5d1c",
   "metadata": {
    "papermill": {
     "duration": 0.006393,
     "end_time": "2023-06-27T22:43:30.435404",
     "exception": false,
     "start_time": "2023-06-27T22:43:30.429011",
     "status": "completed"
    },
    "tags": []
   },
   "source": [
    "---\n",
    "\n",
    "\n",
    "\n",
    "\n",
    "*Have questions or comments? Visit the [course discussion forum](https://www.kaggle.com/learn/pandas/discussion) to chat with other learners.*"
   ]
  }
 ],
 "metadata": {
  "kernelspec": {
   "display_name": "Python 3",
   "language": "python",
   "name": "python3"
  },
  "language_info": {
   "codemirror_mode": {
    "name": "ipython",
    "version": 3
   },
   "file_extension": ".py",
   "mimetype": "text/x-python",
   "name": "python",
   "nbconvert_exporter": "python",
   "pygments_lexer": "ipython3",
   "version": "3.10.10"
  },
  "papermill": {
   "default_parameters": {},
   "duration": 15.648855,
   "end_time": "2023-06-27T22:43:31.263069",
   "environment_variables": {},
   "exception": null,
   "input_path": "__notebook__.ipynb",
   "output_path": "__notebook__.ipynb",
   "parameters": {},
   "start_time": "2023-06-27T22:43:15.614214",
   "version": "2.4.0"
  }
 },
 "nbformat": 4,
 "nbformat_minor": 5
}
